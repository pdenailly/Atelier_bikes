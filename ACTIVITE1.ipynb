{
  "nbformat": 4,
  "nbformat_minor": 0,
  "metadata": {
    "colab": {
      "provenance": [],
      "authorship_tag": "ABX9TyPBWHxsJKiOZxO3vypkNKWk",
      "include_colab_link": true
    },
    "kernelspec": {
      "name": "python3",
      "display_name": "Python 3"
    },
    "language_info": {
      "name": "python"
    }
  },
  "cells": [
    {
      "cell_type": "markdown",
      "metadata": {
        "id": "view-in-github",
        "colab_type": "text"
      },
      "source": [
        "<a href=\"https://colab.research.google.com/github/pdenailly/Atelier_bikes/blob/main/ACTIVITE1.ipynb\" target=\"_parent\"><img src=\"https://colab.research.google.com/assets/colab-badge.svg\" alt=\"Open In Colab\"/></a>"
      ]
    },
    {
      "cell_type": "markdown",
      "source": [
        "**ANALYSE DE BASES DE DONNEES A L'AIDE DE STATISTIQUES SIMPLES**\n",
        "\n",
        "Application : Etude des volumes de cyclistes dans la ville de Paris en amont, pendant et après les JO 2024.\n"
      ],
      "metadata": {
        "id": "4Sr4PokkhgV-"
      }
    },
    {
      "cell_type": "markdown",
      "source": [
        "Bienvenu dans cet atelier ! Nous allons y explorer quelques manières simples d'étudier un jeux de données avant toute utilisation pour des travaux de modélisation.\n",
        "\n",
        "Pour ce cas pratique nous nous intéresserons à des séries temporelles de traffic de vélo, comptés à chaque heure entre juin et septembre 2024 en plusieurs points de la ville de Paris. Ces données ont été extraites d'une [base ouverte mise à disposition par la ville de Paris](https://parisdata.opendatasoft.com/explore/dataset/comptage-velo-donnees-compteurs/api/?disjunctive.id_compteur&disjunctive.nom_compteur&disjunctive.id&disjunctive.name&q.timerange.date=date:%5B2024-05-31T22:00:00Z+TO+2024-09-13T21:59:59Z%5D&basemap=jawg.dark&location=13,48.85652,2.35024&dataChart=eyJxdWVyaWVzIjpbeyJjaGFydHMiOlt7InR5cGUiOiJjb2x1bW4iLCJmdW5jIjoiQVZHIiwieUF4aXMiOiJzdW1fY291bnRzIiwic2NpZW50aWZpY0Rpc3BsYXkiOnRydWUsImNvbG9yIjoiI0ZBOEM0NCJ9XSwieEF4aXMiOiJkYXRlIiwibWF4cG9pbnRzIjoiIiwidGltZXNjYWxlIjoibW9udGgiLCJzb3J0IjoiIiwiY29uZmlnIjp7ImRhdGFzZXQiOiJjb21wdGFnZS12ZWxvLWRvbm5lZXMtY29tcHRldXJzIiwib3B0aW9ucyI6eyJkaXNqdW5jdGl2ZS5pZF9jb21wdGV1ciI6dHJ1ZSwiZGlzanVuY3RpdmUubm9tX2NvbXB0ZXVyIjp0cnVlLCJkaXNqdW5jdGl2ZS5pZCI6dHJ1ZSwiZGlzanVuY3RpdmUubmFtZSI6dHJ1ZSwicmVmaW5lLmRhdGUiOiIyMDI0In19fV0sImRpc3BsYXlMZWdlbmQiOnRydWUsImFsaWduTW9udGgiOnRydWUsInRpbWVzY2FsZSI6IiJ9). La période de Juillet 2024 a été marquée par la présence des Jeux Olympiques en région parisienne, l'un des mots d'ordres ayant été l'utilisation des mobilités douces, dont le vélo. A travers les différents ateliers proposés ici, nous allons nous intéresser à l'étude de ces données, et observer à quel point les jeux olympiques ont eu un impact sur le volume de cyclistes à Paris.\n",
        "\n",
        "Assurez vous que le fichier de données *comptage-velo-donnees-compteurs.csv* soit présent dans le répertoire courant (sur colab, faites les glisser dans l'espace de stockage de la session avec le logo dossier à gauche). Ces fichiers sont disponibles sur le dépôt git de l'atelier : https://github.com/pdenailly/Atelier-Summer-School."
      ],
      "metadata": {
        "id": "yiLBV48thtFI"
      }
    },
    {
      "cell_type": "markdown",
      "source": [
        "\n",
        "**Importation des librairies Python**\n",
        "\n",
        "Nous allons travailler avec le language Python dans cet atelier. En amont de tout projet, il est toujours bon de rassembler les importations de librairies dans une section dédiée. Nous allons notamment travailler avec la librairie *pandas*, très adaptée à l'étude de bases de données sous python."
      ],
      "metadata": {
        "id": "7IiQ_nDmsc0R"
      }
    },
    {
      "cell_type": "code",
      "source": [
        "import pandas as pd\n",
        "import matplotlib.pyplot as plt"
      ],
      "metadata": {
        "id": "J2IZ61MLs429"
      },
      "execution_count": 31,
      "outputs": []
    },
    {
      "cell_type": "markdown",
      "source": [
        "**Importation des données de comptages de vélos**"
      ],
      "metadata": {
        "id": "U_1WaBsHtR88"
      }
    },
    {
      "cell_type": "markdown",
      "source": [
        "L'importation des données se fait avec la librairie pandas, via la fonction read_csv(.)."
      ],
      "metadata": {
        "id": "c1bJkIMcuW5S"
      }
    },
    {
      "cell_type": "code",
      "source": [
        "#Importation des données de comptage vélos depuis le fichier .csv\n",
        "bike_data = pd.read_csv('comptage-velo-donnees-compteurs.csv', sep=\";\", decimal='.').iloc[: , 1:]\n"
      ],
      "metadata": {
        "id": "7Dzx00W3ufpK"
      },
      "execution_count": 2,
      "outputs": []
    },
    {
      "cell_type": "markdown",
      "source": [
        "Maintenant que les données ont été importées sous python, il s'agit de les comprendre. Pour commencer nous devons nous faire une idée du contenu de la base, ses dimensions, ses types de variables, etc."
      ],
      "metadata": {
        "id": "nSnqgSq5vQkI"
      }
    },
    {
      "cell_type": "markdown",
      "source": [
        "**Etudes préliminaires sur la base de données**"
      ],
      "metadata": {
        "id": "9S2KVBNbvpHz"
      }
    },
    {
      "cell_type": "markdown",
      "source": [
        "Commençons par chercher le nombre de lignes et de colonnes dans cette table afin d'en étudier les dimensions. Trouvez l'attrubut \"shape\" sur la dataframe pour cela. Avec pandas un attribut de dataframe 'att' est visualisable via la syntaxe 'dataframe.att'."
      ],
      "metadata": {
        "id": "g6kJCp2Bv6b4"
      }
    },
    {
      "cell_type": "code",
      "source": [
        "bike_data.shape"
      ],
      "metadata": {
        "colab": {
          "base_uri": "https://localhost:8080/"
        },
        "id": "_IXd20ofwgTL",
        "outputId": "bb8f274a-dad3-4e42-82b5-855c026a9e4a"
      },
      "execution_count": 3,
      "outputs": [
        {
          "output_type": "execute_result",
          "data": {
            "text/plain": [
              "(152651, 7)"
            ]
          },
          "metadata": {},
          "execution_count": 3
        }
      ]
    },
    {
      "cell_type": "markdown",
      "source": [
        "Shape renvoie un objet *tuple* contenant le nombre de lignes et le nombre de colonnes. Qu'observez vous ici ?\n",
        "\n",
        "Maintenant explorons de quelles variables (colonnes) nous disposons dans cette dataframe. Utilisez l'attribut \"columns\" pour cela."
      ],
      "metadata": {
        "id": "F6gtPYzxxDjI"
      }
    },
    {
      "cell_type": "code",
      "source": [
        "bike_data.columns"
      ],
      "metadata": {
        "colab": {
          "base_uri": "https://localhost:8080/"
        },
        "id": "zVFg_UTtxzO0",
        "outputId": "0d7752ad-06db-4d10-82b3-2893377fbf97"
      },
      "execution_count": 4,
      "outputs": [
        {
          "output_type": "execute_result",
          "data": {
            "text/plain": [
              "Index(['Nom du compteur', 'Identifiant du site de comptage',\n",
              "       'Nom du site de comptage', 'Comptage horaire',\n",
              "       'Date et heure de comptage', 'Date d'installation du site de comptage',\n",
              "       'Coordonnées géographiques'],\n",
              "      dtype='object')"
            ]
          },
          "metadata": {},
          "execution_count": 4
        }
      ]
    },
    {
      "cell_type": "markdown",
      "source": [
        "Cette commande nous permet d'obtenir une liste de des noms de colonnes présentes dans la dataframe. Certaines comme 'Comptage horaire', 'Date et heure de comptage' et 'Nom du compteur' semblent particulièrement intéressantes comme elles pourront situer les comptages temporellement et spatialement.\n",
        "\n",
        "Nous ne savons en revanche pas quels sont les types des colonnes (nombres entiers, continus, chaînes de caractère,etc.). Cette étape est importante, nous voulons effectivement connaitre la nature des colonnes afin de pouvoir les traiter comme il faut dans les analyses ultérieures. Vous trouverez dans la [documentation de pandas](https://pandas.pydata.org/docs/reference/frame.html) l'attribut nécessaires pour trouver le type de chaque colonne."
      ],
      "metadata": {
        "id": "chBdKBBZy07U"
      }
    },
    {
      "cell_type": "code",
      "source": [
        "bike_data.dtypes"
      ],
      "metadata": {
        "colab": {
          "base_uri": "https://localhost:8080/",
          "height": 304
        },
        "id": "EF6ZR4H62I26",
        "outputId": "1ed47bc5-23b7-4741-d1ca-85cf27de47b0"
      },
      "execution_count": 5,
      "outputs": [
        {
          "output_type": "execute_result",
          "data": {
            "text/plain": [
              "Nom du compteur                             object\n",
              "Identifiant du site de comptage            float64\n",
              "Nom du site de comptage                     object\n",
              "Comptage horaire                           float64\n",
              "Date et heure de comptage                   object\n",
              "Date d'installation du site de comptage     object\n",
              "Coordonnées géographiques                   object\n",
              "dtype: object"
            ],
            "text/html": [
              "<div>\n",
              "<style scoped>\n",
              "    .dataframe tbody tr th:only-of-type {\n",
              "        vertical-align: middle;\n",
              "    }\n",
              "\n",
              "    .dataframe tbody tr th {\n",
              "        vertical-align: top;\n",
              "    }\n",
              "\n",
              "    .dataframe thead th {\n",
              "        text-align: right;\n",
              "    }\n",
              "</style>\n",
              "<table border=\"1\" class=\"dataframe\">\n",
              "  <thead>\n",
              "    <tr style=\"text-align: right;\">\n",
              "      <th></th>\n",
              "      <th>0</th>\n",
              "    </tr>\n",
              "  </thead>\n",
              "  <tbody>\n",
              "    <tr>\n",
              "      <th>Nom du compteur</th>\n",
              "      <td>object</td>\n",
              "    </tr>\n",
              "    <tr>\n",
              "      <th>Identifiant du site de comptage</th>\n",
              "      <td>float64</td>\n",
              "    </tr>\n",
              "    <tr>\n",
              "      <th>Nom du site de comptage</th>\n",
              "      <td>object</td>\n",
              "    </tr>\n",
              "    <tr>\n",
              "      <th>Comptage horaire</th>\n",
              "      <td>float64</td>\n",
              "    </tr>\n",
              "    <tr>\n",
              "      <th>Date et heure de comptage</th>\n",
              "      <td>object</td>\n",
              "    </tr>\n",
              "    <tr>\n",
              "      <th>Date d'installation du site de comptage</th>\n",
              "      <td>object</td>\n",
              "    </tr>\n",
              "    <tr>\n",
              "      <th>Coordonnées géographiques</th>\n",
              "      <td>object</td>\n",
              "    </tr>\n",
              "  </tbody>\n",
              "</table>\n",
              "</div><br><label><b>dtype:</b> object</label>"
            ]
          },
          "metadata": {},
          "execution_count": 5
        }
      ]
    },
    {
      "cell_type": "markdown",
      "source": [
        "Le type object dans pandas est un type générique qui est utilisé pour stocker des données non numériques. En pratique, il est souvent utilisé pour représenter des chaines de caractère, ou bien des valeurs hétérogènes.\n",
        "\n",
        "Nous observons notamment que la colonne 'Comptage horaire' est bien composée de comptages (int64). Les autres colonnes sont composées d'informations sous la forme de chaines de caractères, excepté la colonne 'Identifiant du site de comptage' qui est composée de valeurs numériques continues.\n",
        "\n",
        "La fonction 'describe()' peut être appliquée sur une colonne du dataframe pour en décrire le contenu (nombre de valeurs, moyenne, min, max, etc.). Appliquez cette fonction à la colonne 'Comptage horaire' afin d'en étudier le contenu. Quelles sont les valeurs de moyenne ? De médiane ? Pourquoi sont elles différentes ?"
      ],
      "metadata": {
        "id": "gJQxikRl3eZz"
      }
    },
    {
      "cell_type": "code",
      "source": [
        "bike_data['Comptage horaire'].describe()"
      ],
      "metadata": {
        "colab": {
          "base_uri": "https://localhost:8080/",
          "height": 335
        },
        "id": "1GQVye1u4WBK",
        "outputId": "90b96044-a7bf-4227-db8f-240d756db7e9"
      },
      "execution_count": 6,
      "outputs": [
        {
          "output_type": "execute_result",
          "data": {
            "text/plain": [
              "count    152650.000000\n",
              "mean         86.099155\n",
              "std         118.064176\n",
              "min           0.000000\n",
              "25%          12.000000\n",
              "50%          48.000000\n",
              "75%         108.000000\n",
              "max        1574.000000\n",
              "Name: Comptage horaire, dtype: float64"
            ],
            "text/html": [
              "<div>\n",
              "<style scoped>\n",
              "    .dataframe tbody tr th:only-of-type {\n",
              "        vertical-align: middle;\n",
              "    }\n",
              "\n",
              "    .dataframe tbody tr th {\n",
              "        vertical-align: top;\n",
              "    }\n",
              "\n",
              "    .dataframe thead th {\n",
              "        text-align: right;\n",
              "    }\n",
              "</style>\n",
              "<table border=\"1\" class=\"dataframe\">\n",
              "  <thead>\n",
              "    <tr style=\"text-align: right;\">\n",
              "      <th></th>\n",
              "      <th>Comptage horaire</th>\n",
              "    </tr>\n",
              "  </thead>\n",
              "  <tbody>\n",
              "    <tr>\n",
              "      <th>count</th>\n",
              "      <td>152650.000000</td>\n",
              "    </tr>\n",
              "    <tr>\n",
              "      <th>mean</th>\n",
              "      <td>86.099155</td>\n",
              "    </tr>\n",
              "    <tr>\n",
              "      <th>std</th>\n",
              "      <td>118.064176</td>\n",
              "    </tr>\n",
              "    <tr>\n",
              "      <th>min</th>\n",
              "      <td>0.000000</td>\n",
              "    </tr>\n",
              "    <tr>\n",
              "      <th>25%</th>\n",
              "      <td>12.000000</td>\n",
              "    </tr>\n",
              "    <tr>\n",
              "      <th>50%</th>\n",
              "      <td>48.000000</td>\n",
              "    </tr>\n",
              "    <tr>\n",
              "      <th>75%</th>\n",
              "      <td>108.000000</td>\n",
              "    </tr>\n",
              "    <tr>\n",
              "      <th>max</th>\n",
              "      <td>1574.000000</td>\n",
              "    </tr>\n",
              "  </tbody>\n",
              "</table>\n",
              "</div><br><label><b>dtype:</b> float64</label>"
            ]
          },
          "metadata": {},
          "execution_count": 6
        }
      ]
    },
    {
      "cell_type": "markdown",
      "source": [
        "Appliquez maintenant la fonction de description à la colonne 'Identifiant du site de comptage'. Qu'observez vous ? Est ce cohérent pour une colonne dont la donnée est censée donner un identifiant à chaque site de comptage ?\n",
        "\n"
      ],
      "metadata": {
        "id": "MJkpdCBx5b2b"
      }
    },
    {
      "cell_type": "code",
      "source": [
        "bike_data['Identifiant du site de comptage'].describe()\n"
      ],
      "metadata": {
        "colab": {
          "base_uri": "https://localhost:8080/",
          "height": 335
        },
        "id": "TE3qsuba5zTL",
        "outputId": "be2d8a17-40d5-43aa-efc8-64288c452c92"
      },
      "execution_count": 7,
      "outputs": [
        {
          "output_type": "execute_result",
          "data": {
            "text/plain": [
              "count    1.417580e+05\n",
              "mean     1.357372e+08\n",
              "std      7.657293e+07\n",
              "min      1.000031e+08\n",
              "25%      1.000475e+08\n",
              "50%      1.000560e+08\n",
              "75%      1.000573e+08\n",
              "max      3.000303e+08\n",
              "Name: Identifiant du site de comptage, dtype: float64"
            ],
            "text/html": [
              "<div>\n",
              "<style scoped>\n",
              "    .dataframe tbody tr th:only-of-type {\n",
              "        vertical-align: middle;\n",
              "    }\n",
              "\n",
              "    .dataframe tbody tr th {\n",
              "        vertical-align: top;\n",
              "    }\n",
              "\n",
              "    .dataframe thead th {\n",
              "        text-align: right;\n",
              "    }\n",
              "</style>\n",
              "<table border=\"1\" class=\"dataframe\">\n",
              "  <thead>\n",
              "    <tr style=\"text-align: right;\">\n",
              "      <th></th>\n",
              "      <th>Identifiant du site de comptage</th>\n",
              "    </tr>\n",
              "  </thead>\n",
              "  <tbody>\n",
              "    <tr>\n",
              "      <th>count</th>\n",
              "      <td>1.417580e+05</td>\n",
              "    </tr>\n",
              "    <tr>\n",
              "      <th>mean</th>\n",
              "      <td>1.357372e+08</td>\n",
              "    </tr>\n",
              "    <tr>\n",
              "      <th>std</th>\n",
              "      <td>7.657293e+07</td>\n",
              "    </tr>\n",
              "    <tr>\n",
              "      <th>min</th>\n",
              "      <td>1.000031e+08</td>\n",
              "    </tr>\n",
              "    <tr>\n",
              "      <th>25%</th>\n",
              "      <td>1.000475e+08</td>\n",
              "    </tr>\n",
              "    <tr>\n",
              "      <th>50%</th>\n",
              "      <td>1.000560e+08</td>\n",
              "    </tr>\n",
              "    <tr>\n",
              "      <th>75%</th>\n",
              "      <td>1.000573e+08</td>\n",
              "    </tr>\n",
              "    <tr>\n",
              "      <th>max</th>\n",
              "      <td>3.000303e+08</td>\n",
              "    </tr>\n",
              "  </tbody>\n",
              "</table>\n",
              "</div><br><label><b>dtype:</b> float64</label>"
            ]
          },
          "metadata": {},
          "execution_count": 7
        }
      ]
    },
    {
      "cell_type": "markdown",
      "source": [
        "Modifiez la colonne 'Identifiant du site de comptage' afin d'en obtenir une variable catégorielle (chaque identifiant = une catégorie). Appliquez pour cela la fonction 'astype(...)' sur la colonne, et spécifiez que la transformation doit se faire vers des données catégorielles. Créez la colonne 'Identifiant du site de comptage cat' avec votre transformation. Ensuite appliquez la fonction de description à votre colonne modifiée 'Identifiant du site de comptage cat'. Qu'observez vous ? Combien y a t-il de sites de comptages ?"
      ],
      "metadata": {
        "id": "t58HgtgJ62eA"
      }
    },
    {
      "cell_type": "code",
      "source": [
        "bike_data['Identifiant du site de comptage'] = bike_data['Identifiant du site de comptage'].astype('category')\n",
        "bike_data['Identifiant du site de comptage'].describe()"
      ],
      "metadata": {
        "colab": {
          "base_uri": "https://localhost:8080/",
          "height": 210
        },
        "id": "vrH4SQcW66nJ",
        "outputId": "09eb558d-9534-414e-9586-341e8c129f20"
      },
      "execution_count": 8,
      "outputs": [
        {
          "output_type": "execute_result",
          "data": {
            "text/plain": [
              "count        141758.0\n",
              "unique           65.0\n",
              "top       100056329.0\n",
              "freq           3162.0\n",
              "Name: Identifiant du site de comptage, dtype: float64"
            ],
            "text/html": [
              "<div>\n",
              "<style scoped>\n",
              "    .dataframe tbody tr th:only-of-type {\n",
              "        vertical-align: middle;\n",
              "    }\n",
              "\n",
              "    .dataframe tbody tr th {\n",
              "        vertical-align: top;\n",
              "    }\n",
              "\n",
              "    .dataframe thead th {\n",
              "        text-align: right;\n",
              "    }\n",
              "</style>\n",
              "<table border=\"1\" class=\"dataframe\">\n",
              "  <thead>\n",
              "    <tr style=\"text-align: right;\">\n",
              "      <th></th>\n",
              "      <th>Identifiant du site de comptage</th>\n",
              "    </tr>\n",
              "  </thead>\n",
              "  <tbody>\n",
              "    <tr>\n",
              "      <th>count</th>\n",
              "      <td>141758.0</td>\n",
              "    </tr>\n",
              "    <tr>\n",
              "      <th>unique</th>\n",
              "      <td>65.0</td>\n",
              "    </tr>\n",
              "    <tr>\n",
              "      <th>top</th>\n",
              "      <td>100056329.0</td>\n",
              "    </tr>\n",
              "    <tr>\n",
              "      <th>freq</th>\n",
              "      <td>3162.0</td>\n",
              "    </tr>\n",
              "  </tbody>\n",
              "</table>\n",
              "</div><br><label><b>dtype:</b> float64</label>"
            ]
          },
          "metadata": {},
          "execution_count": 8
        }
      ]
    },
    {
      "cell_type": "markdown",
      "source": [
        "Un site de comptage est une zone qui peut rassembler plusieurs capteurs de comptages répartis dans la ville de Paris. Les capteurs apparaissent dans la colonne 'Nom du compteur'. Combien y a t-il de capteurs en tout ? Vous pouvez passer par l'utilisation de la fonction 'nunique()'."
      ],
      "metadata": {
        "id": "8Hool1N_8jmY"
      }
    },
    {
      "cell_type": "code",
      "source": [
        "bike_data['Nom du compteur'].nunique()\n"
      ],
      "metadata": {
        "colab": {
          "base_uri": "https://localhost:8080/"
        },
        "id": "rGYFIV4k8yda",
        "outputId": "fa301b33-76fe-4556-ae70-366a86055b6d"
      },
      "execution_count": 9,
      "outputs": [
        {
          "output_type": "execute_result",
          "data": {
            "text/plain": [
              "97"
            ]
          },
          "metadata": {},
          "execution_count": 9
        }
      ]
    },
    {
      "cell_type": "markdown",
      "source": [
        "A ce stade, nous ne nous sommes pas intéressé à l'aspect temporel dans les données, pourtant central pour l'étude de comptages de vélos dans le temps. La colonne 'Date et heure de comptage' est composée de chaines de caractères, visualisons l'apparence de ces données."
      ],
      "metadata": {
        "id": "C-5LPD1d9qRr"
      }
    },
    {
      "cell_type": "code",
      "source": [
        "bike_data['Date et heure de comptage'].head()"
      ],
      "metadata": {
        "colab": {
          "base_uri": "https://localhost:8080/",
          "height": 241
        },
        "id": "BcjvB82Gic90",
        "outputId": "3e24783b-c395-4c84-b34b-d7adc0f9d96a"
      },
      "execution_count": 15,
      "outputs": [
        {
          "output_type": "execute_result",
          "data": {
            "text/plain": [
              "0   2024-06-01 00:00:00+02:00\n",
              "1   2024-06-01 00:00:00+02:00\n",
              "2   2024-06-01 00:00:00+02:00\n",
              "3   2024-06-01 00:00:00+02:00\n",
              "4   2024-06-01 00:00:00+02:00\n",
              "Name: Date et heure de comptage, dtype: datetime64[ns, UTC+02:00]"
            ],
            "text/html": [
              "<div>\n",
              "<style scoped>\n",
              "    .dataframe tbody tr th:only-of-type {\n",
              "        vertical-align: middle;\n",
              "    }\n",
              "\n",
              "    .dataframe tbody tr th {\n",
              "        vertical-align: top;\n",
              "    }\n",
              "\n",
              "    .dataframe thead th {\n",
              "        text-align: right;\n",
              "    }\n",
              "</style>\n",
              "<table border=\"1\" class=\"dataframe\">\n",
              "  <thead>\n",
              "    <tr style=\"text-align: right;\">\n",
              "      <th></th>\n",
              "      <th>Date et heure de comptage</th>\n",
              "    </tr>\n",
              "  </thead>\n",
              "  <tbody>\n",
              "    <tr>\n",
              "      <th>0</th>\n",
              "      <td>2024-06-01 00:00:00+02:00</td>\n",
              "    </tr>\n",
              "    <tr>\n",
              "      <th>1</th>\n",
              "      <td>2024-06-01 00:00:00+02:00</td>\n",
              "    </tr>\n",
              "    <tr>\n",
              "      <th>2</th>\n",
              "      <td>2024-06-01 00:00:00+02:00</td>\n",
              "    </tr>\n",
              "    <tr>\n",
              "      <th>3</th>\n",
              "      <td>2024-06-01 00:00:00+02:00</td>\n",
              "    </tr>\n",
              "    <tr>\n",
              "      <th>4</th>\n",
              "      <td>2024-06-01 00:00:00+02:00</td>\n",
              "    </tr>\n",
              "  </tbody>\n",
              "</table>\n",
              "</div><br><label><b>dtype:</b> datetime64[ns, UTC+02:00]</label>"
            ]
          },
          "metadata": {},
          "execution_count": 15
        }
      ]
    },
    {
      "cell_type": "markdown",
      "source": [
        "Les dates et les heures sont combinées dans des chaines au pattern suivant 'AAA-MM-JJ HH:MM:SS+02:00'. Le code suivant permet d'extraire les dates et les heures : il convertit les chaines de caractères en objets datetime, desquels il est possible d'extraire les différentes composantes de temps. Deux nouvelles colonnes 'Date' et 'Heure' sont créees."
      ],
      "metadata": {
        "id": "mfGwaBLhjdsO"
      }
    },
    {
      "cell_type": "code",
      "source": [
        "#Conversion des chaines de caractère en objets datetime\n",
        "bike_data['Date et heure de comptage'] = pd.to_datetime(bike_data['Date et heure de comptage'])\n",
        "\n",
        "#Extraction date\n",
        "bike_data['Date'] = bike_data['Date et heure de comptage'].dt.date\n",
        "\n",
        "# Extraire heure\n",
        "bike_data['Heure'] = bike_data['Date et heure de comptage'].dt.time"
      ],
      "metadata": {
        "id": "xXemyCFCi7QN"
      },
      "execution_count": 13,
      "outputs": []
    },
    {
      "cell_type": "markdown",
      "source": [
        "Passons maintenant à une autre étape dans l'étude de nos données : la qualité. Cette étape consiste à repérer la présence de données manquantes et d'éventuelles valeurs aberrantes."
      ],
      "metadata": {
        "id": "Sqh12iqImiOu"
      }
    },
    {
      "cell_type": "markdown",
      "source": [
        "**Qualité des données**\n",
        "\n",
        "Nous allons nous concentrer dans cette partie sur les données de comptages en elles mêmes. Afin de vérifier la quantité de valeurs manquantes, il faut estimer le nombre de pas de temps sans comptages pour chaque capteur. Pour cela, dans un premier temps nous allons étendre la base de données. Nous allons créer une nouvelle base 'bike_data_spread'. Dans cette base, chaque 'Nom du compteur' de bike_data devient une colonne et les valeurs dans la colonne 'Comptage horaire' remplissent ces colonnes, [vous pouvez utiliser la méthode .'pivot()' de pandas](https://pandas.pydata.org/docs/reference/api/pandas.DataFrame.pivot.html?utm_source=chatgpt.com). Pensez à prendre comme index les colonnes 'Date' ET 'Heure'."
      ],
      "metadata": {
        "id": "m5Ilk5dUnKCI"
      }
    },
    {
      "cell_type": "code",
      "source": [
        "bike_data_spread = bike_data.pivot(index=['Date', 'Heure'], columns='Nom du compteur', values='Comptage horaire')\n",
        "bike_data_spread.head()"
      ],
      "metadata": {
        "colab": {
          "base_uri": "https://localhost:8080/",
          "height": 443
        },
        "id": "DhPOc4G5rP21",
        "outputId": "c579686a-fde3-4949-a5ff-c875394227a7"
      },
      "execution_count": 20,
      "outputs": [
        {
          "output_type": "execute_result",
          "data": {
            "text/plain": [
              "Nom du compteur      10 avenue de la Grande Armée SE-NO  \\\n",
              "Date       Heure                                          \n",
              "NaN        NaN                                      NaN   \n",
              "2024-06-01 00:00:00                                19.0   \n",
              "           01:00:00                                14.0   \n",
              "           02:00:00                                22.0   \n",
              "           03:00:00                                11.0   \n",
              "\n",
              "Nom du compteur      10 boulevard Auguste Blanqui NE-SO  \\\n",
              "Date       Heure                                          \n",
              "NaN        NaN                                      NaN   \n",
              "2024-06-01 00:00:00                                11.0   \n",
              "           01:00:00                                10.0   \n",
              "           02:00:00                                14.0   \n",
              "           03:00:00                                 8.0   \n",
              "\n",
              "Nom du compteur      102 boulevard de Magenta SE-NO  \\\n",
              "Date       Heure                                      \n",
              "NaN        NaN                                  NaN   \n",
              "2024-06-01 00:00:00                           191.0   \n",
              "           01:00:00                           144.0   \n",
              "           02:00:00                           184.0   \n",
              "           03:00:00                            89.0   \n",
              "\n",
              "Nom du compteur      106 avenue Denfert Rochereau NE-SO  \\\n",
              "Date       Heure                                          \n",
              "NaN        NaN                                      NaN   \n",
              "2024-06-01 00:00:00                                 0.0   \n",
              "           01:00:00                                 0.0   \n",
              "           02:00:00                                 0.0   \n",
              "           03:00:00                                 0.0   \n",
              "\n",
              "Nom du compteur      129 rue Lecourbe SO-NE  132 rue Lecourbe NE-SO  \\\n",
              "Date       Heure                                                      \n",
              "NaN        NaN                          NaN                     NaN   \n",
              "2024-06-01 00:00:00                    15.0                    39.0   \n",
              "           01:00:00                     5.0                    24.0   \n",
              "           02:00:00                    11.0                    24.0   \n",
              "           03:00:00                     4.0                    19.0   \n",
              "\n",
              "Nom du compteur      135 avenue Daumesnil SE-NO  147 avenue d'Italie S-N  \\\n",
              "Date       Heure                                                           \n",
              "NaN        NaN                              NaN                      NaN   \n",
              "2024-06-01 00:00:00                        20.0                     23.0   \n",
              "           01:00:00                        30.0                     10.0   \n",
              "           02:00:00                         6.0                      6.0   \n",
              "           03:00:00                         1.0                      5.0   \n",
              "\n",
              "Nom du compteur      152 boulevard du Montparnasse E-O  \\\n",
              "Date       Heure                                         \n",
              "NaN        NaN                                     NaN   \n",
              "2024-06-01 00:00:00                               28.0   \n",
              "           01:00:00                               15.0   \n",
              "           02:00:00                               16.0   \n",
              "           03:00:00                                6.0   \n",
              "\n",
              "Nom du compteur      152 boulevard du Montparnasse O-E  ...  \\\n",
              "Date       Heure                                        ...   \n",
              "NaN        NaN                                     NaN  ...   \n",
              "2024-06-01 00:00:00                               15.0  ...   \n",
              "           01:00:00                                8.0  ...   \n",
              "           02:00:00                                8.0  ...   \n",
              "           03:00:00                                7.0  ...   \n",
              "\n",
              "Nom du compteur      Totem 64 Rue de Rivoli Totem 64 Rue de Rivoli Vélos E-O  \\\n",
              "Date       Heure                                                               \n",
              "NaN        NaN                                                     NaN         \n",
              "2024-06-01 00:00:00                                               54.0         \n",
              "           01:00:00                                               56.0         \n",
              "           02:00:00                                               35.0         \n",
              "           03:00:00                                               22.0         \n",
              "\n",
              "Nom du compteur      Totem 64 Rue de Rivoli Totem 64 Rue de Rivoli Vélos O-E  \\\n",
              "Date       Heure                                                               \n",
              "NaN        NaN                                                     NaN         \n",
              "2024-06-01 00:00:00                                              118.0         \n",
              "           01:00:00                                               57.0         \n",
              "           02:00:00                                               95.0         \n",
              "           03:00:00                                               46.0         \n",
              "\n",
              "Nom du compteur      Totem 73 boulevard de Sébastopol N-S  \\\n",
              "Date       Heure                                            \n",
              "NaN        NaN                                        NaN   \n",
              "2024-06-01 00:00:00                                 133.0   \n",
              "           01:00:00                                  96.0   \n",
              "           02:00:00                                 126.0   \n",
              "           03:00:00                                  45.0   \n",
              "\n",
              "Nom du compteur      Totem 73 boulevard de Sébastopol S-N  \\\n",
              "Date       Heure                                            \n",
              "NaN        NaN                                        NaN   \n",
              "2024-06-01 00:00:00                                 211.0   \n",
              "           01:00:00                                 140.0   \n",
              "           02:00:00                                 155.0   \n",
              "           03:00:00                                  55.0   \n",
              "\n",
              "Nom du compteur      Totem 85 quai d'Austerlitz NO-SE  \\\n",
              "Date       Heure                                        \n",
              "NaN        NaN                                    NaN   \n",
              "2024-06-01 00:00:00                              24.0   \n",
              "           01:00:00                              12.0   \n",
              "           02:00:00                              11.0   \n",
              "           03:00:00                               7.0   \n",
              "\n",
              "Nom du compteur      Totem 85 quai d'Austerlitz SE-NO  \\\n",
              "Date       Heure                                        \n",
              "NaN        NaN                                    NaN   \n",
              "2024-06-01 00:00:00                              51.0   \n",
              "           01:00:00                              36.0   \n",
              "           02:00:00                              57.0   \n",
              "           03:00:00                              27.0   \n",
              "\n",
              "Nom du compteur      Totem Cours la Reine E-O  Totem Cours la Reine O-E  \\\n",
              "Date       Heure                                                          \n",
              "NaN        NaN                            NaN                       NaN   \n",
              "2024-06-01 00:00:00                       0.0                       0.0   \n",
              "           01:00:00                       0.0                       0.0   \n",
              "           02:00:00                       0.0                       0.0   \n",
              "           03:00:00                       0.0                       0.0   \n",
              "\n",
              "Nom du compteur      Voie Georges Pompidou NE-SO  Voie Georges Pompidou SO-NE  \n",
              "Date       Heure                                                               \n",
              "NaN        NaN                               NaN                          NaN  \n",
              "2024-06-01 00:00:00                         14.0                         22.0  \n",
              "           01:00:00                          4.0                         13.0  \n",
              "           02:00:00                         13.0                         14.0  \n",
              "           03:00:00                          8.0                          6.0  \n",
              "\n",
              "[5 rows x 97 columns]"
            ],
            "text/html": [
              "\n",
              "  <div id=\"df-cc835694-e5b5-42f3-88ac-d90952e71571\" class=\"colab-df-container\">\n",
              "    <div>\n",
              "<style scoped>\n",
              "    .dataframe tbody tr th:only-of-type {\n",
              "        vertical-align: middle;\n",
              "    }\n",
              "\n",
              "    .dataframe tbody tr th {\n",
              "        vertical-align: top;\n",
              "    }\n",
              "\n",
              "    .dataframe thead th {\n",
              "        text-align: right;\n",
              "    }\n",
              "</style>\n",
              "<table border=\"1\" class=\"dataframe\">\n",
              "  <thead>\n",
              "    <tr style=\"text-align: right;\">\n",
              "      <th></th>\n",
              "      <th>Nom du compteur</th>\n",
              "      <th>10 avenue de la Grande Armée SE-NO</th>\n",
              "      <th>10 boulevard Auguste Blanqui NE-SO</th>\n",
              "      <th>102 boulevard de Magenta SE-NO</th>\n",
              "      <th>106 avenue Denfert Rochereau NE-SO</th>\n",
              "      <th>129 rue Lecourbe SO-NE</th>\n",
              "      <th>132 rue Lecourbe NE-SO</th>\n",
              "      <th>135 avenue Daumesnil SE-NO</th>\n",
              "      <th>147 avenue d'Italie S-N</th>\n",
              "      <th>152 boulevard du Montparnasse E-O</th>\n",
              "      <th>152 boulevard du Montparnasse O-E</th>\n",
              "      <th>...</th>\n",
              "      <th>Totem 64 Rue de Rivoli Totem 64 Rue de Rivoli Vélos E-O</th>\n",
              "      <th>Totem 64 Rue de Rivoli Totem 64 Rue de Rivoli Vélos O-E</th>\n",
              "      <th>Totem 73 boulevard de Sébastopol N-S</th>\n",
              "      <th>Totem 73 boulevard de Sébastopol S-N</th>\n",
              "      <th>Totem 85 quai d'Austerlitz NO-SE</th>\n",
              "      <th>Totem 85 quai d'Austerlitz SE-NO</th>\n",
              "      <th>Totem Cours la Reine E-O</th>\n",
              "      <th>Totem Cours la Reine O-E</th>\n",
              "      <th>Voie Georges Pompidou NE-SO</th>\n",
              "      <th>Voie Georges Pompidou SO-NE</th>\n",
              "    </tr>\n",
              "    <tr>\n",
              "      <th>Date</th>\n",
              "      <th>Heure</th>\n",
              "      <th></th>\n",
              "      <th></th>\n",
              "      <th></th>\n",
              "      <th></th>\n",
              "      <th></th>\n",
              "      <th></th>\n",
              "      <th></th>\n",
              "      <th></th>\n",
              "      <th></th>\n",
              "      <th></th>\n",
              "      <th></th>\n",
              "      <th></th>\n",
              "      <th></th>\n",
              "      <th></th>\n",
              "      <th></th>\n",
              "      <th></th>\n",
              "      <th></th>\n",
              "      <th></th>\n",
              "      <th></th>\n",
              "      <th></th>\n",
              "      <th></th>\n",
              "    </tr>\n",
              "  </thead>\n",
              "  <tbody>\n",
              "    <tr>\n",
              "      <th>NaN</th>\n",
              "      <th>NaN</th>\n",
              "      <td>NaN</td>\n",
              "      <td>NaN</td>\n",
              "      <td>NaN</td>\n",
              "      <td>NaN</td>\n",
              "      <td>NaN</td>\n",
              "      <td>NaN</td>\n",
              "      <td>NaN</td>\n",
              "      <td>NaN</td>\n",
              "      <td>NaN</td>\n",
              "      <td>NaN</td>\n",
              "      <td>...</td>\n",
              "      <td>NaN</td>\n",
              "      <td>NaN</td>\n",
              "      <td>NaN</td>\n",
              "      <td>NaN</td>\n",
              "      <td>NaN</td>\n",
              "      <td>NaN</td>\n",
              "      <td>NaN</td>\n",
              "      <td>NaN</td>\n",
              "      <td>NaN</td>\n",
              "      <td>NaN</td>\n",
              "    </tr>\n",
              "    <tr>\n",
              "      <th rowspan=\"4\" valign=\"top\">2024-06-01</th>\n",
              "      <th>00:00:00</th>\n",
              "      <td>19.0</td>\n",
              "      <td>11.0</td>\n",
              "      <td>191.0</td>\n",
              "      <td>0.0</td>\n",
              "      <td>15.0</td>\n",
              "      <td>39.0</td>\n",
              "      <td>20.0</td>\n",
              "      <td>23.0</td>\n",
              "      <td>28.0</td>\n",
              "      <td>15.0</td>\n",
              "      <td>...</td>\n",
              "      <td>54.0</td>\n",
              "      <td>118.0</td>\n",
              "      <td>133.0</td>\n",
              "      <td>211.0</td>\n",
              "      <td>24.0</td>\n",
              "      <td>51.0</td>\n",
              "      <td>0.0</td>\n",
              "      <td>0.0</td>\n",
              "      <td>14.0</td>\n",
              "      <td>22.0</td>\n",
              "    </tr>\n",
              "    <tr>\n",
              "      <th>01:00:00</th>\n",
              "      <td>14.0</td>\n",
              "      <td>10.0</td>\n",
              "      <td>144.0</td>\n",
              "      <td>0.0</td>\n",
              "      <td>5.0</td>\n",
              "      <td>24.0</td>\n",
              "      <td>30.0</td>\n",
              "      <td>10.0</td>\n",
              "      <td>15.0</td>\n",
              "      <td>8.0</td>\n",
              "      <td>...</td>\n",
              "      <td>56.0</td>\n",
              "      <td>57.0</td>\n",
              "      <td>96.0</td>\n",
              "      <td>140.0</td>\n",
              "      <td>12.0</td>\n",
              "      <td>36.0</td>\n",
              "      <td>0.0</td>\n",
              "      <td>0.0</td>\n",
              "      <td>4.0</td>\n",
              "      <td>13.0</td>\n",
              "    </tr>\n",
              "    <tr>\n",
              "      <th>02:00:00</th>\n",
              "      <td>22.0</td>\n",
              "      <td>14.0</td>\n",
              "      <td>184.0</td>\n",
              "      <td>0.0</td>\n",
              "      <td>11.0</td>\n",
              "      <td>24.0</td>\n",
              "      <td>6.0</td>\n",
              "      <td>6.0</td>\n",
              "      <td>16.0</td>\n",
              "      <td>8.0</td>\n",
              "      <td>...</td>\n",
              "      <td>35.0</td>\n",
              "      <td>95.0</td>\n",
              "      <td>126.0</td>\n",
              "      <td>155.0</td>\n",
              "      <td>11.0</td>\n",
              "      <td>57.0</td>\n",
              "      <td>0.0</td>\n",
              "      <td>0.0</td>\n",
              "      <td>13.0</td>\n",
              "      <td>14.0</td>\n",
              "    </tr>\n",
              "    <tr>\n",
              "      <th>03:00:00</th>\n",
              "      <td>11.0</td>\n",
              "      <td>8.0</td>\n",
              "      <td>89.0</td>\n",
              "      <td>0.0</td>\n",
              "      <td>4.0</td>\n",
              "      <td>19.0</td>\n",
              "      <td>1.0</td>\n",
              "      <td>5.0</td>\n",
              "      <td>6.0</td>\n",
              "      <td>7.0</td>\n",
              "      <td>...</td>\n",
              "      <td>22.0</td>\n",
              "      <td>46.0</td>\n",
              "      <td>45.0</td>\n",
              "      <td>55.0</td>\n",
              "      <td>7.0</td>\n",
              "      <td>27.0</td>\n",
              "      <td>0.0</td>\n",
              "      <td>0.0</td>\n",
              "      <td>8.0</td>\n",
              "      <td>6.0</td>\n",
              "    </tr>\n",
              "  </tbody>\n",
              "</table>\n",
              "<p>5 rows × 97 columns</p>\n",
              "</div>\n",
              "    <div class=\"colab-df-buttons\">\n",
              "\n",
              "  <div class=\"colab-df-container\">\n",
              "    <button class=\"colab-df-convert\" onclick=\"convertToInteractive('df-cc835694-e5b5-42f3-88ac-d90952e71571')\"\n",
              "            title=\"Convert this dataframe to an interactive table.\"\n",
              "            style=\"display:none;\">\n",
              "\n",
              "  <svg xmlns=\"http://www.w3.org/2000/svg\" height=\"24px\" viewBox=\"0 -960 960 960\">\n",
              "    <path d=\"M120-120v-720h720v720H120Zm60-500h600v-160H180v160Zm220 220h160v-160H400v160Zm0 220h160v-160H400v160ZM180-400h160v-160H180v160Zm440 0h160v-160H620v160ZM180-180h160v-160H180v160Zm440 0h160v-160H620v160Z\"/>\n",
              "  </svg>\n",
              "    </button>\n",
              "\n",
              "  <style>\n",
              "    .colab-df-container {\n",
              "      display:flex;\n",
              "      gap: 12px;\n",
              "    }\n",
              "\n",
              "    .colab-df-convert {\n",
              "      background-color: #E8F0FE;\n",
              "      border: none;\n",
              "      border-radius: 50%;\n",
              "      cursor: pointer;\n",
              "      display: none;\n",
              "      fill: #1967D2;\n",
              "      height: 32px;\n",
              "      padding: 0 0 0 0;\n",
              "      width: 32px;\n",
              "    }\n",
              "\n",
              "    .colab-df-convert:hover {\n",
              "      background-color: #E2EBFA;\n",
              "      box-shadow: 0px 1px 2px rgba(60, 64, 67, 0.3), 0px 1px 3px 1px rgba(60, 64, 67, 0.15);\n",
              "      fill: #174EA6;\n",
              "    }\n",
              "\n",
              "    .colab-df-buttons div {\n",
              "      margin-bottom: 4px;\n",
              "    }\n",
              "\n",
              "    [theme=dark] .colab-df-convert {\n",
              "      background-color: #3B4455;\n",
              "      fill: #D2E3FC;\n",
              "    }\n",
              "\n",
              "    [theme=dark] .colab-df-convert:hover {\n",
              "      background-color: #434B5C;\n",
              "      box-shadow: 0px 1px 3px 1px rgba(0, 0, 0, 0.15);\n",
              "      filter: drop-shadow(0px 1px 2px rgba(0, 0, 0, 0.3));\n",
              "      fill: #FFFFFF;\n",
              "    }\n",
              "  </style>\n",
              "\n",
              "    <script>\n",
              "      const buttonEl =\n",
              "        document.querySelector('#df-cc835694-e5b5-42f3-88ac-d90952e71571 button.colab-df-convert');\n",
              "      buttonEl.style.display =\n",
              "        google.colab.kernel.accessAllowed ? 'block' : 'none';\n",
              "\n",
              "      async function convertToInteractive(key) {\n",
              "        const element = document.querySelector('#df-cc835694-e5b5-42f3-88ac-d90952e71571');\n",
              "        const dataTable =\n",
              "          await google.colab.kernel.invokeFunction('convertToInteractive',\n",
              "                                                    [key], {});\n",
              "        if (!dataTable) return;\n",
              "\n",
              "        const docLinkHtml = 'Like what you see? Visit the ' +\n",
              "          '<a target=\"_blank\" href=https://colab.research.google.com/notebooks/data_table.ipynb>data table notebook</a>'\n",
              "          + ' to learn more about interactive tables.';\n",
              "        element.innerHTML = '';\n",
              "        dataTable['output_type'] = 'display_data';\n",
              "        await google.colab.output.renderOutput(dataTable, element);\n",
              "        const docLink = document.createElement('div');\n",
              "        docLink.innerHTML = docLinkHtml;\n",
              "        element.appendChild(docLink);\n",
              "      }\n",
              "    </script>\n",
              "  </div>\n",
              "\n",
              "\n",
              "<div id=\"df-12cae720-a22a-4654-946f-2c439fba4832\">\n",
              "  <button class=\"colab-df-quickchart\" onclick=\"quickchart('df-12cae720-a22a-4654-946f-2c439fba4832')\"\n",
              "            title=\"Suggest charts\"\n",
              "            style=\"display:none;\">\n",
              "\n",
              "<svg xmlns=\"http://www.w3.org/2000/svg\" height=\"24px\"viewBox=\"0 0 24 24\"\n",
              "     width=\"24px\">\n",
              "    <g>\n",
              "        <path d=\"M19 3H5c-1.1 0-2 .9-2 2v14c0 1.1.9 2 2 2h14c1.1 0 2-.9 2-2V5c0-1.1-.9-2-2-2zM9 17H7v-7h2v7zm4 0h-2V7h2v10zm4 0h-2v-4h2v4z\"/>\n",
              "    </g>\n",
              "</svg>\n",
              "  </button>\n",
              "\n",
              "<style>\n",
              "  .colab-df-quickchart {\n",
              "      --bg-color: #E8F0FE;\n",
              "      --fill-color: #1967D2;\n",
              "      --hover-bg-color: #E2EBFA;\n",
              "      --hover-fill-color: #174EA6;\n",
              "      --disabled-fill-color: #AAA;\n",
              "      --disabled-bg-color: #DDD;\n",
              "  }\n",
              "\n",
              "  [theme=dark] .colab-df-quickchart {\n",
              "      --bg-color: #3B4455;\n",
              "      --fill-color: #D2E3FC;\n",
              "      --hover-bg-color: #434B5C;\n",
              "      --hover-fill-color: #FFFFFF;\n",
              "      --disabled-bg-color: #3B4455;\n",
              "      --disabled-fill-color: #666;\n",
              "  }\n",
              "\n",
              "  .colab-df-quickchart {\n",
              "    background-color: var(--bg-color);\n",
              "    border: none;\n",
              "    border-radius: 50%;\n",
              "    cursor: pointer;\n",
              "    display: none;\n",
              "    fill: var(--fill-color);\n",
              "    height: 32px;\n",
              "    padding: 0;\n",
              "    width: 32px;\n",
              "  }\n",
              "\n",
              "  .colab-df-quickchart:hover {\n",
              "    background-color: var(--hover-bg-color);\n",
              "    box-shadow: 0 1px 2px rgba(60, 64, 67, 0.3), 0 1px 3px 1px rgba(60, 64, 67, 0.15);\n",
              "    fill: var(--button-hover-fill-color);\n",
              "  }\n",
              "\n",
              "  .colab-df-quickchart-complete:disabled,\n",
              "  .colab-df-quickchart-complete:disabled:hover {\n",
              "    background-color: var(--disabled-bg-color);\n",
              "    fill: var(--disabled-fill-color);\n",
              "    box-shadow: none;\n",
              "  }\n",
              "\n",
              "  .colab-df-spinner {\n",
              "    border: 2px solid var(--fill-color);\n",
              "    border-color: transparent;\n",
              "    border-bottom-color: var(--fill-color);\n",
              "    animation:\n",
              "      spin 1s steps(1) infinite;\n",
              "  }\n",
              "\n",
              "  @keyframes spin {\n",
              "    0% {\n",
              "      border-color: transparent;\n",
              "      border-bottom-color: var(--fill-color);\n",
              "      border-left-color: var(--fill-color);\n",
              "    }\n",
              "    20% {\n",
              "      border-color: transparent;\n",
              "      border-left-color: var(--fill-color);\n",
              "      border-top-color: var(--fill-color);\n",
              "    }\n",
              "    30% {\n",
              "      border-color: transparent;\n",
              "      border-left-color: var(--fill-color);\n",
              "      border-top-color: var(--fill-color);\n",
              "      border-right-color: var(--fill-color);\n",
              "    }\n",
              "    40% {\n",
              "      border-color: transparent;\n",
              "      border-right-color: var(--fill-color);\n",
              "      border-top-color: var(--fill-color);\n",
              "    }\n",
              "    60% {\n",
              "      border-color: transparent;\n",
              "      border-right-color: var(--fill-color);\n",
              "    }\n",
              "    80% {\n",
              "      border-color: transparent;\n",
              "      border-right-color: var(--fill-color);\n",
              "      border-bottom-color: var(--fill-color);\n",
              "    }\n",
              "    90% {\n",
              "      border-color: transparent;\n",
              "      border-bottom-color: var(--fill-color);\n",
              "    }\n",
              "  }\n",
              "</style>\n",
              "\n",
              "  <script>\n",
              "    async function quickchart(key) {\n",
              "      const quickchartButtonEl =\n",
              "        document.querySelector('#' + key + ' button');\n",
              "      quickchartButtonEl.disabled = true;  // To prevent multiple clicks.\n",
              "      quickchartButtonEl.classList.add('colab-df-spinner');\n",
              "      try {\n",
              "        const charts = await google.colab.kernel.invokeFunction(\n",
              "            'suggestCharts', [key], {});\n",
              "      } catch (error) {\n",
              "        console.error('Error during call to suggestCharts:', error);\n",
              "      }\n",
              "      quickchartButtonEl.classList.remove('colab-df-spinner');\n",
              "      quickchartButtonEl.classList.add('colab-df-quickchart-complete');\n",
              "    }\n",
              "    (() => {\n",
              "      let quickchartButtonEl =\n",
              "        document.querySelector('#df-12cae720-a22a-4654-946f-2c439fba4832 button');\n",
              "      quickchartButtonEl.style.display =\n",
              "        google.colab.kernel.accessAllowed ? 'block' : 'none';\n",
              "    })();\n",
              "  </script>\n",
              "</div>\n",
              "\n",
              "    </div>\n",
              "  </div>\n"
            ],
            "application/vnd.google.colaboratory.intrinsic+json": {
              "type": "dataframe",
              "variable_name": "bike_data_spread"
            }
          },
          "metadata": {},
          "execution_count": 20
        }
      ]
    },
    {
      "cell_type": "markdown",
      "source": [
        "Votre nouvelle table devrait contenir 97 colonnes, soit le nombre de capteurs, ainsi que deux index : la date et l'heure. Nous aimerions maintenant connaitre les 5 capteurs présentant le plus de valeurs manquantes. Pour cela nous allons appliquer une série de fonctions sur la base bike_data_spread. Utilisez les fonctions isna(), sum(), sort_values() et head() pour trouver ce résultat. sort_values() utilise un paramètre 'ascending' qui vous sera utile.\n",
        "\n",
        "Aide :\n",
        "Avec pandas, il est possible d'appliquer plusieurs fonctions successives à une dataframe. Par défaut ces fonctions s'appliquent aux colonnes. Par exemple si l'on souhaite appliquer deux fonctions successives à une dataframe, on peut l'écrire sous la *dataframe.fonction1().fonction2()* où fonction2() applique une fonction à une dataframe pré-transformée par fonction1().\n",
        "\n"
      ],
      "metadata": {
        "id": "e-ARB7dPuFtP"
      }
    },
    {
      "cell_type": "code",
      "source": [
        "bike_data_spread.isna().sum().sort_values(ascending=False).head(5)"
      ],
      "metadata": {
        "colab": {
          "base_uri": "https://localhost:8080/",
          "height": 272
        },
        "id": "dQ4ssV7wubnr",
        "outputId": "df12304c-bc73-4fd5-9ecf-2f25f2d07521"
      },
      "execution_count": 28,
      "outputs": [
        {
          "output_type": "execute_result",
          "data": {
            "text/plain": [
              "Nom du compteur\n",
              "Pont de la Concorde S-N                                    280\n",
              "Totem 64 Rue de Rivoli Totem 64 Rue de Rivoli Vélos O-E    132\n",
              "Totem 64 Rue de Rivoli Totem 64 Rue de Rivoli Vélos E-O    119\n",
              "Face au 48 quai de la marne SO-NE                           95\n",
              "Face au 48 quai de la marne NE-SO                           83\n",
              "dtype: int64"
            ],
            "text/html": [
              "<div>\n",
              "<style scoped>\n",
              "    .dataframe tbody tr th:only-of-type {\n",
              "        vertical-align: middle;\n",
              "    }\n",
              "\n",
              "    .dataframe tbody tr th {\n",
              "        vertical-align: top;\n",
              "    }\n",
              "\n",
              "    .dataframe thead th {\n",
              "        text-align: right;\n",
              "    }\n",
              "</style>\n",
              "<table border=\"1\" class=\"dataframe\">\n",
              "  <thead>\n",
              "    <tr style=\"text-align: right;\">\n",
              "      <th></th>\n",
              "      <th>0</th>\n",
              "    </tr>\n",
              "    <tr>\n",
              "      <th>Nom du compteur</th>\n",
              "      <th></th>\n",
              "    </tr>\n",
              "  </thead>\n",
              "  <tbody>\n",
              "    <tr>\n",
              "      <th>Pont de la Concorde S-N</th>\n",
              "      <td>280</td>\n",
              "    </tr>\n",
              "    <tr>\n",
              "      <th>Totem 64 Rue de Rivoli Totem 64 Rue de Rivoli Vélos O-E</th>\n",
              "      <td>132</td>\n",
              "    </tr>\n",
              "    <tr>\n",
              "      <th>Totem 64 Rue de Rivoli Totem 64 Rue de Rivoli Vélos E-O</th>\n",
              "      <td>119</td>\n",
              "    </tr>\n",
              "    <tr>\n",
              "      <th>Face au 48 quai de la marne SO-NE</th>\n",
              "      <td>95</td>\n",
              "    </tr>\n",
              "    <tr>\n",
              "      <th>Face au 48 quai de la marne NE-SO</th>\n",
              "      <td>83</td>\n",
              "    </tr>\n",
              "  </tbody>\n",
              "</table>\n",
              "</div><br><label><b>dtype:</b> int64</label>"
            ]
          },
          "metadata": {},
          "execution_count": 28
        }
      ]
    },
    {
      "cell_type": "markdown",
      "source": [
        "Maintenant que fait on de ces données manquantes ? Ici il n'y a pas de solution toute faite, cela dépend du cas d'étude et de la quantité de données manquantes. On peut néanmoins penser à trois solutions :\n",
        "\n",
        "\n",
        "*   Dans le cas où un capteur présente une trop grande quantité de données manquantes, il devient difficile à exploiter et devrait être retiré.\n",
        "*   Dans le cas où les données manquantes sont peu nombreuses, on peut soit choisir de les ignorer, soit de les corriger via des méthodes de lissage.\n",
        "\n",
        "Dans notre cas, le capteur avec le plus de données manquantes, n'excède pas 280 manques, pour un total de 1583 pas de temps. Dans le cadre de ce TP nous conserverons les données manquantes telles quelles car elles ne présentent pas un impact important pour nos études.\n",
        "\n",
        "Passons à un rapide examen de la présence ou non de valeurs extrêmes (outliers) dans nos données. Ces données présentent des valeurs très grandes ou très petites par rapport au reste des données et peuvent soit provenir de phénomènes explicables, soit d'erreurs d'acquisitions.\n",
        "Dans le cadre d'un modèle d'apprentissage, ces données doivent être traitées, quelque soit leur origine. Si elles sont explicables, des éléments explicatifs devraient intégrer le modèle. Si elles sont le fruit d'erreurs, il faudrait les retirer ou les corriger. Une bonne manière d'étudier la distribution des valeurs dans une colonne de données, est de passer par un histogramme. Utilisez la fonction 'hist()' pour observer la distribution des données de comptages de la base 'bike_data'. [L'argument 'bins' peut vous être utile](https://pandas.pydata.org/docs/reference/api/pandas.DataFrame.hist.html).\n",
        "Que représentent les abscisses ? Les ordonnées ?\n",
        "D'après vous, les données présentent elles des valeurs extrèmes, inutilisables en tant que telles ?\n"
      ],
      "metadata": {
        "id": "_sBybcxUy6Qi"
      }
    },
    {
      "cell_type": "code",
      "source": [
        "# Supposons que votre DataFrame s'appelle df\n",
        "bike_data['Comptage horaire'].hist(bins=20)  # Vous pouvez ajuster le nombre de bins\n"
      ],
      "metadata": {
        "colab": {
          "base_uri": "https://localhost:8080/",
          "height": 447
        },
        "id": "VlV0TP1vyuiW",
        "outputId": "6b62b081-63f4-4bff-98eb-fac110b50f17"
      },
      "execution_count": 35,
      "outputs": [
        {
          "output_type": "execute_result",
          "data": {
            "text/plain": [
              "<Axes: >"
            ]
          },
          "metadata": {},
          "execution_count": 35
        },
        {
          "output_type": "display_data",
          "data": {
            "text/plain": [
              "<Figure size 640x480 with 1 Axes>"
            ],
            "image/png": "[encoded data removed]"
          },
          "metadata": {}
        }
      ]
    }
  ]
}