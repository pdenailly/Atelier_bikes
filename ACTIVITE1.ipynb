{
  "nbformat": 4,
  "nbformat_minor": 0,
  "metadata": {
    "colab": {
      "provenance": [],
      "authorship_tag": "ABX9TyP7HbHsvHegXU9zh/KKWHQ/",
      "include_colab_link": true
    },
    "kernelspec": {
      "name": "python3",
      "display_name": "Python 3"
    },
    "language_info": {
      "name": "python"
    }
  },
  "cells": [
    {
      "cell_type": "markdown",
      "metadata": {
        "id": "view-in-github",
        "colab_type": "text"
      },
      "source": [
        "<a href=\"https://colab.research.google.com/github/pdenailly/Atelier_bikes/blob/main/ACTIVITE1.ipynb\" target=\"_parent\"><img src=\"https://colab.research.google.com/assets/colab-badge.svg\" alt=\"Open In Colab\"/></a>"
      ]
    },
    {
      "cell_type": "markdown",
      "source": [
        "**ANALYSE DE BASES DE DONNEES A L'AIDE DE STATISTIQUES SIMPLES**\n",
        "\n",
        "Application : Etude des volumes de cyclistes dans la ville de Paris en amont, pendant et après les JO 2024.\n"
      ],
      "metadata": {
        "id": "4Sr4PokkhgV-"
      }
    },
    {
      "cell_type": "markdown",
      "source": [
        "Bienvenu dans cet atelier ! Nous allons y explorer quelques manières simples d'étudier un jeux de données avant toute utilisation pour des travaux de modélisation.\n",
        "\n",
        "Pour ce cas pratique nous nous intéresserons à des séries temporelles de traffic de vélo, comptés à chaque heure entre juin et septembre 2024 en plusieurs points de la ville de Paris. Ces données ont été extraites d'une [base ouverte mise à disposition par la ville de Paris](https://parisdata.opendatasoft.com/explore/dataset/comptage-velo-donnees-compteurs/api/?disjunctive.id_compteur&disjunctive.nom_compteur&disjunctive.id&disjunctive.name&q.timerange.date=date:%5B2024-05-31T22:00:00Z+TO+2024-09-13T21:59:59Z%5D&basemap=jawg.dark&location=13,48.85652,2.35024&dataChart=eyJxdWVyaWVzIjpbeyJjaGFydHMiOlt7InR5cGUiOiJjb2x1bW4iLCJmdW5jIjoiQVZHIiwieUF4aXMiOiJzdW1fY291bnRzIiwic2NpZW50aWZpY0Rpc3BsYXkiOnRydWUsImNvbG9yIjoiI0ZBOEM0NCJ9XSwieEF4aXMiOiJkYXRlIiwibWF4cG9pbnRzIjoiIiwidGltZXNjYWxlIjoibW9udGgiLCJzb3J0IjoiIiwiY29uZmlnIjp7ImRhdGFzZXQiOiJjb21wdGFnZS12ZWxvLWRvbm5lZXMtY29tcHRldXJzIiwib3B0aW9ucyI6eyJkaXNqdW5jdGl2ZS5pZF9jb21wdGV1ciI6dHJ1ZSwiZGlzanVuY3RpdmUubm9tX2NvbXB0ZXVyIjp0cnVlLCJkaXNqdW5jdGl2ZS5pZCI6dHJ1ZSwiZGlzanVuY3RpdmUubmFtZSI6dHJ1ZSwicmVmaW5lLmRhdGUiOiIyMDI0In19fV0sImRpc3BsYXlMZWdlbmQiOnRydWUsImFsaWduTW9udGgiOnRydWUsInRpbWVzY2FsZSI6IiJ9). La période de Juillet 2024 a été marquée par la présence des Jeux Olympiques en région parisienne, l'un des mots d'ordres ayant été l'utilisation des mobilités douces, dont le vélo. A travers les différents ateliers proposés ici, nous allons nous intéresser à l'étude de ces données, et observer à quel point les jeux olympiques ont eu un impact sur le volume de cyclistes à Paris.\n",
        "\n",
        "Assurez vous que le fichier de données *comptage-velo-donnees-compteurs.csv* soit présent dans le répertoire courant (sur colab, faites les glisser dans l'espace de stockage de la session avec le logo dossier à gauche). Ces fichiers sont disponibles sur le dépôt git de l'atelier : https://github.com/pdenailly/Atelier-Summer-School."
      ],
      "metadata": {
        "id": "yiLBV48thtFI"
      }
    },
    {
      "cell_type": "markdown",
      "source": [
        "\n",
        "**Importation des librairies Python**\n",
        "\n",
        "Nous allons travailler avec le language Python dans cet atelier. En amont de tout projet, il est toujours bon de rassembler les importations de librairies dans une section dédiée. Nous allons notamment travailler avec la librairie *pandas*, très adaptée à l'étude de bases de données sous python."
      ],
      "metadata": {
        "id": "7IiQ_nDmsc0R"
      }
    },
    {
      "cell_type": "code",
      "source": [
        "import pandas as pd\n",
        "import matplotlib.pyplot as plt\n",
        "import numpy as np"
      ],
      "metadata": {
        "id": "J2IZ61MLs429"
      },
      "execution_count": null,
      "outputs": []
    },
    {
      "cell_type": "markdown",
      "source": [
        "**Importation des données de comptages de vélos**"
      ],
      "metadata": {
        "id": "U_1WaBsHtR88"
      }
    },
    {
      "cell_type": "markdown",
      "source": [
        "L'importation des données se fait avec la librairie pandas, via la fonction read_csv(.)."
      ],
      "metadata": {
        "id": "c1bJkIMcuW5S"
      }
    },
    {
      "cell_type": "code",
      "source": [
        "#Importation des données de comptage vélos depuis le fichier .csv\n",
        "bike_data = pd.read_csv('comptage-velo-donnees-compteurs.csv', sep=\";\", decimal='.').iloc[: , 1:]\n"
      ],
      "metadata": {
        "id": "7Dzx00W3ufpK"
      },
      "execution_count": null,
      "outputs": []
    },
    {
      "cell_type": "markdown",
      "source": [
        "Maintenant que les données ont été importées sous python, il s'agit de les comprendre. Pour commencer nous devons nous faire une idée du contenu de la base, ses dimensions, ses types de variables, etc."
      ],
      "metadata": {
        "id": "nSnqgSq5vQkI"
      }
    },
    {
      "cell_type": "markdown",
      "source": [
        "**Etudes préliminaires sur la base de données**"
      ],
      "metadata": {
        "id": "9S2KVBNbvpHz"
      }
    },
    {
      "cell_type": "markdown",
      "source": [
        "Commençons par chercher le nombre de lignes et de colonnes dans cette table afin d'en étudier les dimensions. Appliquez l'attribut \"shape\" sur la dataframe pour cela. Avec pandas un attribut de dataframe 'att' est visualisable via la syntaxe 'dataframe.att'."
      ],
      "metadata": {
        "id": "g6kJCp2Bv6b4"
      }
    },
    {
      "cell_type": "code",
      "source": [
        "shape = ....\n",
        "print(shape)"
      ],
      "metadata": {
        "colab": {
          "base_uri": "https://localhost:8080/"
        },
        "id": "_IXd20ofwgTL",
        "outputId": "b5e7a6d8-7704-474d-be47-0f242a2274fe"
      },
      "execution_count": null,
      "outputs": [
        {
          "output_type": "execute_result",
          "data": {
            "text/plain": [
              "(180874, 7)"
            ]
          },
          "metadata": {},
          "execution_count": 3
        }
      ]
    },
    {
      "cell_type": "markdown",
      "source": [
        "Shape renvoie un objet *tuple* contenant le nombre de lignes et le nombre de colonnes. Qu'observez vous ici ?\n",
        "\n",
        "Maintenant explorons de quelles variables (colonnes) nous disposons dans cette dataframe. Utilisez l'attribut \"columns\" pour cela."
      ],
      "metadata": {
        "id": "F6gtPYzxxDjI"
      }
    },
    {
      "cell_type": "code",
      "source": [
        "cols = ....\n",
        "print(cols)"
      ],
      "metadata": {
        "colab": {
          "base_uri": "https://localhost:8080/",
          "height": 141
        },
        "id": "zVFg_UTtxzO0",
        "outputId": "8e117e8a-0fc8-481d-cdbb-504350416786"
      },
      "execution_count": 1,
      "outputs": [
        {
          "output_type": "error",
          "ename": "NameError",
          "evalue": "name 'bike_data' is not defined",
          "traceback": [
            "\u001b[0;31m---------------------------------------------------------------------------\u001b[0m",
            "\u001b[0;31mNameError\u001b[0m                                 Traceback (most recent call last)",
            "\u001b[0;32m<ipython-input-1-2ca261efd899>\u001b[0m in \u001b[0;36m<cell line: 0>\u001b[0;34m()\u001b[0m\n\u001b[0;32m----> 1\u001b[0;31m \u001b[0mbike_data\u001b[0m\u001b[0;34m.\u001b[0m\u001b[0mcolumns\u001b[0m\u001b[0;34m\u001b[0m\u001b[0;34m\u001b[0m\u001b[0m\n\u001b[0m",
            "\u001b[0;31mNameError\u001b[0m: name 'bike_data' is not defined"
          ]
        }
      ]
    },
    {
      "cell_type": "markdown",
      "source": [
        "Cette commande nous permet d'obtenir une liste de des noms de colonnes présentes dans la dataframe. Certaines comme 'Comptage horaire', 'Date et heure de comptage' et 'Nom du compteur' semblent particulièrement intéressantes comme elles pourront situer les comptages temporellement et spatialement.\n",
        "\n",
        "Nous ne savons en revanche pas quels sont les types des colonnes (nombres entiers, continus, chaînes de caractère,etc.). Cette étape est importante, nous voulons effectivement connaitre la nature des colonnes afin de pouvoir les traiter comme il faut dans les analyses ultérieures. Vous trouverez dans la [documentation de pandas](https://pandas.pydata.org/docs/reference/frame.html) l'attribut nécessaires pour trouver le type de chaque colonne."
      ],
      "metadata": {
        "id": "chBdKBBZy07U"
      }
    },
    {
      "cell_type": "code",
      "source": [
        "types_columns = ...\n",
        "print(types_columns)"
      ],
      "metadata": {
        "colab": {
          "base_uri": "https://localhost:8080/",
          "height": 304
        },
        "id": "EF6ZR4H62I26",
        "outputId": "be7ce7ea-56c6-49a6-c284-51998037012e"
      },
      "execution_count": null,
      "outputs": [
        {
          "output_type": "execute_result",
          "data": {
            "text/plain": [
              "Nom du compteur                             object\n",
              "Identifiant du site de comptage            float64\n",
              "Nom du site de comptage                     object\n",
              "Comptage horaire                             int64\n",
              "Date et heure de comptage                   object\n",
              "Date d'installation du site de comptage     object\n",
              "Coordonnées géographiques                   object\n",
              "dtype: object"
            ],
            "text/html": [
              "<div>\n",
              "<style scoped>\n",
              "    .dataframe tbody tr th:only-of-type {\n",
              "        vertical-align: middle;\n",
              "    }\n",
              "\n",
              "    .dataframe tbody tr th {\n",
              "        vertical-align: top;\n",
              "    }\n",
              "\n",
              "    .dataframe thead th {\n",
              "        text-align: right;\n",
              "    }\n",
              "</style>\n",
              "<table border=\"1\" class=\"dataframe\">\n",
              "  <thead>\n",
              "    <tr style=\"text-align: right;\">\n",
              "      <th></th>\n",
              "      <th>0</th>\n",
              "    </tr>\n",
              "  </thead>\n",
              "  <tbody>\n",
              "    <tr>\n",
              "      <th>Nom du compteur</th>\n",
              "      <td>object</td>\n",
              "    </tr>\n",
              "    <tr>\n",
              "      <th>Identifiant du site de comptage</th>\n",
              "      <td>float64</td>\n",
              "    </tr>\n",
              "    <tr>\n",
              "      <th>Nom du site de comptage</th>\n",
              "      <td>object</td>\n",
              "    </tr>\n",
              "    <tr>\n",
              "      <th>Comptage horaire</th>\n",
              "      <td>int64</td>\n",
              "    </tr>\n",
              "    <tr>\n",
              "      <th>Date et heure de comptage</th>\n",
              "      <td>object</td>\n",
              "    </tr>\n",
              "    <tr>\n",
              "      <th>Date d'installation du site de comptage</th>\n",
              "      <td>object</td>\n",
              "    </tr>\n",
              "    <tr>\n",
              "      <th>Coordonnées géographiques</th>\n",
              "      <td>object</td>\n",
              "    </tr>\n",
              "  </tbody>\n",
              "</table>\n",
              "</div><br><label><b>dtype:</b> object</label>"
            ]
          },
          "metadata": {},
          "execution_count": 5
        }
      ]
    },
    {
      "cell_type": "markdown",
      "source": [
        "Le type object dans pandas est un type générique qui est utilisé pour stocker des données non numériques. En pratique, il est souvent utilisé pour représenter des chaines de caractère, ou bien des valeurs hétérogènes.\n",
        "\n",
        "Nous observons notamment que la colonne 'Comptage horaire' est bien composée de comptages (int64). Les autres colonnes sont composées d'informations sous la forme de chaines de caractères, excepté la colonne 'Identifiant du site de comptage' qui est composée de valeurs numériques continues.\n",
        "\n",
        "La fonction 'describe()' peut être appliquée sur une colonne du dataframe pour en décrire le contenu (nombre de valeurs, moyenne, min, max, etc.). Appliquez cette fonction à la colonne 'Comptage horaire' afin d'en étudier le contenu. Quelles sont les valeurs de moyenne ? De médiane ? Pourquoi sont elles différentes ?"
      ],
      "metadata": {
        "id": "gJQxikRl3eZz"
      }
    },
    {
      "cell_type": "code",
      "source": [
        "bike_data['Comptage horaire'].describe()"
      ],
      "metadata": {
        "colab": {
          "base_uri": "https://localhost:8080/",
          "height": 335
        },
        "id": "1GQVye1u4WBK",
        "outputId": "d124918b-62e3-468e-8c4d-24f3189a6ac0"
      },
      "execution_count": null,
      "outputs": [
        {
          "output_type": "execute_result",
          "data": {
            "text/plain": [
              "count    180874.000000\n",
              "mean         82.099876\n",
              "std         113.301428\n",
              "min           0.000000\n",
              "25%          12.000000\n",
              "50%          46.000000\n",
              "75%         102.000000\n",
              "max        1574.000000\n",
              "Name: Comptage horaire, dtype: float64"
            ],
            "text/html": [
              "<div>\n",
              "<style scoped>\n",
              "    .dataframe tbody tr th:only-of-type {\n",
              "        vertical-align: middle;\n",
              "    }\n",
              "\n",
              "    .dataframe tbody tr th {\n",
              "        vertical-align: top;\n",
              "    }\n",
              "\n",
              "    .dataframe thead th {\n",
              "        text-align: right;\n",
              "    }\n",
              "</style>\n",
              "<table border=\"1\" class=\"dataframe\">\n",
              "  <thead>\n",
              "    <tr style=\"text-align: right;\">\n",
              "      <th></th>\n",
              "      <th>Comptage horaire</th>\n",
              "    </tr>\n",
              "  </thead>\n",
              "  <tbody>\n",
              "    <tr>\n",
              "      <th>count</th>\n",
              "      <td>180874.000000</td>\n",
              "    </tr>\n",
              "    <tr>\n",
              "      <th>mean</th>\n",
              "      <td>82.099876</td>\n",
              "    </tr>\n",
              "    <tr>\n",
              "      <th>std</th>\n",
              "      <td>113.301428</td>\n",
              "    </tr>\n",
              "    <tr>\n",
              "      <th>min</th>\n",
              "      <td>0.000000</td>\n",
              "    </tr>\n",
              "    <tr>\n",
              "      <th>25%</th>\n",
              "      <td>12.000000</td>\n",
              "    </tr>\n",
              "    <tr>\n",
              "      <th>50%</th>\n",
              "      <td>46.000000</td>\n",
              "    </tr>\n",
              "    <tr>\n",
              "      <th>75%</th>\n",
              "      <td>102.000000</td>\n",
              "    </tr>\n",
              "    <tr>\n",
              "      <th>max</th>\n",
              "      <td>1574.000000</td>\n",
              "    </tr>\n",
              "  </tbody>\n",
              "</table>\n",
              "</div><br><label><b>dtype:</b> float64</label>"
            ]
          },
          "metadata": {},
          "execution_count": 6
        }
      ]
    },
    {
      "cell_type": "markdown",
      "source": [
        "Appliquez maintenant la fonction de description à la colonne 'Identifiant du site de comptage'. Qu'observez vous ? Est ce cohérent pour une colonne dont la donnée est censée donner un identifiant à chaque site de comptage ?\n",
        "\n"
      ],
      "metadata": {
        "id": "MJkpdCBx5b2b"
      }
    },
    {
      "cell_type": "code",
      "source": [
        "bike_data['Identifiant du site de comptage'].describe()\n"
      ],
      "metadata": {
        "colab": {
          "base_uri": "https://localhost:8080/",
          "height": 335
        },
        "id": "TE3qsuba5zTL",
        "outputId": "be2d8a17-40d5-43aa-efc8-64288c452c92"
      },
      "execution_count": null,
      "outputs": [
        {
          "output_type": "execute_result",
          "data": {
            "text/plain": [
              "count    1.417580e+05\n",
              "mean     1.357372e+08\n",
              "std      7.657293e+07\n",
              "min      1.000031e+08\n",
              "25%      1.000475e+08\n",
              "50%      1.000560e+08\n",
              "75%      1.000573e+08\n",
              "max      3.000303e+08\n",
              "Name: Identifiant du site de comptage, dtype: float64"
            ],
            "text/html": [
              "<div>\n",
              "<style scoped>\n",
              "    .dataframe tbody tr th:only-of-type {\n",
              "        vertical-align: middle;\n",
              "    }\n",
              "\n",
              "    .dataframe tbody tr th {\n",
              "        vertical-align: top;\n",
              "    }\n",
              "\n",
              "    .dataframe thead th {\n",
              "        text-align: right;\n",
              "    }\n",
              "</style>\n",
              "<table border=\"1\" class=\"dataframe\">\n",
              "  <thead>\n",
              "    <tr style=\"text-align: right;\">\n",
              "      <th></th>\n",
              "      <th>Identifiant du site de comptage</th>\n",
              "    </tr>\n",
              "  </thead>\n",
              "  <tbody>\n",
              "    <tr>\n",
              "      <th>count</th>\n",
              "      <td>1.417580e+05</td>\n",
              "    </tr>\n",
              "    <tr>\n",
              "      <th>mean</th>\n",
              "      <td>1.357372e+08</td>\n",
              "    </tr>\n",
              "    <tr>\n",
              "      <th>std</th>\n",
              "      <td>7.657293e+07</td>\n",
              "    </tr>\n",
              "    <tr>\n",
              "      <th>min</th>\n",
              "      <td>1.000031e+08</td>\n",
              "    </tr>\n",
              "    <tr>\n",
              "      <th>25%</th>\n",
              "      <td>1.000475e+08</td>\n",
              "    </tr>\n",
              "    <tr>\n",
              "      <th>50%</th>\n",
              "      <td>1.000560e+08</td>\n",
              "    </tr>\n",
              "    <tr>\n",
              "      <th>75%</th>\n",
              "      <td>1.000573e+08</td>\n",
              "    </tr>\n",
              "    <tr>\n",
              "      <th>max</th>\n",
              "      <td>3.000303e+08</td>\n",
              "    </tr>\n",
              "  </tbody>\n",
              "</table>\n",
              "</div><br><label><b>dtype:</b> float64</label>"
            ]
          },
          "metadata": {},
          "execution_count": 7
        }
      ]
    },
    {
      "cell_type": "markdown",
      "source": [
        "Modifiez la colonne 'Identifiant du site de comptage' afin d'en obtenir une variable catégorielle (chaque identifiant = une catégorie). Appliquez pour cela la fonction 'astype(...)' sur la colonne, et spécifiez que la transformation doit se faire vers des données catégorielles. Créez la colonne 'Identifiant du site de comptage cat' avec votre transformation. Ensuite appliquez la fonction de description à votre colonne modifiée 'Identifiant du site de comptage cat'. Qu'observez vous ? Combien y a t-il de sites de comptages ?"
      ],
      "metadata": {
        "id": "t58HgtgJ62eA"
      }
    },
    {
      "cell_type": "code",
      "source": [
        "bike_data['Identifiant du site de comptage cat'] = ...\n",
        "bike_data['Identifiant du site de comptage cat'].describe()"
      ],
      "metadata": {
        "colab": {
          "base_uri": "https://localhost:8080/",
          "height": 210
        },
        "id": "vrH4SQcW66nJ",
        "outputId": "ba7b87bc-4d2f-45c0-a316-335c9b0a5dfd"
      },
      "execution_count": null,
      "outputs": [
        {
          "output_type": "execute_result",
          "data": {
            "text/plain": [
              "count        167944.0\n",
              "unique           65.0\n",
              "top       100057445.0\n",
              "freq           3744.0\n",
              "Name: Identifiant du site de comptage, dtype: float64"
            ],
            "text/html": [
              "<div>\n",
              "<style scoped>\n",
              "    .dataframe tbody tr th:only-of-type {\n",
              "        vertical-align: middle;\n",
              "    }\n",
              "\n",
              "    .dataframe tbody tr th {\n",
              "        vertical-align: top;\n",
              "    }\n",
              "\n",
              "    .dataframe thead th {\n",
              "        text-align: right;\n",
              "    }\n",
              "</style>\n",
              "<table border=\"1\" class=\"dataframe\">\n",
              "  <thead>\n",
              "    <tr style=\"text-align: right;\">\n",
              "      <th></th>\n",
              "      <th>Identifiant du site de comptage</th>\n",
              "    </tr>\n",
              "  </thead>\n",
              "  <tbody>\n",
              "    <tr>\n",
              "      <th>count</th>\n",
              "      <td>167944.0</td>\n",
              "    </tr>\n",
              "    <tr>\n",
              "      <th>unique</th>\n",
              "      <td>65.0</td>\n",
              "    </tr>\n",
              "    <tr>\n",
              "      <th>top</th>\n",
              "      <td>100057445.0</td>\n",
              "    </tr>\n",
              "    <tr>\n",
              "      <th>freq</th>\n",
              "      <td>3744.0</td>\n",
              "    </tr>\n",
              "  </tbody>\n",
              "</table>\n",
              "</div><br><label><b>dtype:</b> float64</label>"
            ]
          },
          "metadata": {},
          "execution_count": 7
        }
      ]
    },
    {
      "cell_type": "markdown",
      "source": [
        "Un site de comptage est une zone qui peut rassembler plusieurs capteurs de comptages répartis dans la ville de Paris. Les capteurs apparaissent dans la colonne 'Nom du compteur'. Combien y a t-il de capteurs en tout ? Vous pouvez passer par l'utilisation de la fonction 'nunique()'."
      ],
      "metadata": {
        "id": "8Hool1N_8jmY"
      }
    },
    {
      "cell_type": "code",
      "source": [
        "nombre_capteurs = ...\n",
        "print(nombre_capteurs)"
      ],
      "metadata": {
        "colab": {
          "base_uri": "https://localhost:8080/"
        },
        "id": "rGYFIV4k8yda",
        "outputId": "b05e2b38-c282-45c9-ba92-43a10176be34"
      },
      "execution_count": null,
      "outputs": [
        {
          "output_type": "execute_result",
          "data": {
            "text/plain": [
              "97"
            ]
          },
          "metadata": {},
          "execution_count": 8
        }
      ]
    },
    {
      "cell_type": "markdown",
      "source": [
        "A ce stade, nous ne nous sommes pas intéressé à l'aspect temporel dans les données, pourtant central pour l'étude de comptages de vélos dans le temps. La colonne 'Date et heure de comptage' est composée de chaines de caractères, visualisons l'apparence de ces données."
      ],
      "metadata": {
        "id": "C-5LPD1d9qRr"
      }
    },
    {
      "cell_type": "code",
      "source": [
        "bike_data['Date et heure de comptage'].head()"
      ],
      "metadata": {
        "colab": {
          "base_uri": "https://localhost:8080/",
          "height": 241
        },
        "id": "BcjvB82Gic90",
        "outputId": "95fb5414-0fee-4d41-e674-6d6033923148"
      },
      "execution_count": null,
      "outputs": [
        {
          "output_type": "execute_result",
          "data": {
            "text/plain": [
              "0    2024-06-01T00:00:00+02:00\n",
              "1    2024-06-01T00:00:00+02:00\n",
              "2    2024-06-01T00:00:00+02:00\n",
              "3    2024-06-01T00:00:00+02:00\n",
              "4    2024-06-01T00:00:00+02:00\n",
              "Name: Date et heure de comptage, dtype: object"
            ],
            "text/html": [
              "<div>\n",
              "<style scoped>\n",
              "    .dataframe tbody tr th:only-of-type {\n",
              "        vertical-align: middle;\n",
              "    }\n",
              "\n",
              "    .dataframe tbody tr th {\n",
              "        vertical-align: top;\n",
              "    }\n",
              "\n",
              "    .dataframe thead th {\n",
              "        text-align: right;\n",
              "    }\n",
              "</style>\n",
              "<table border=\"1\" class=\"dataframe\">\n",
              "  <thead>\n",
              "    <tr style=\"text-align: right;\">\n",
              "      <th></th>\n",
              "      <th>Date et heure de comptage</th>\n",
              "    </tr>\n",
              "  </thead>\n",
              "  <tbody>\n",
              "    <tr>\n",
              "      <th>0</th>\n",
              "      <td>2024-06-01T00:00:00+02:00</td>\n",
              "    </tr>\n",
              "    <tr>\n",
              "      <th>1</th>\n",
              "      <td>2024-06-01T00:00:00+02:00</td>\n",
              "    </tr>\n",
              "    <tr>\n",
              "      <th>2</th>\n",
              "      <td>2024-06-01T00:00:00+02:00</td>\n",
              "    </tr>\n",
              "    <tr>\n",
              "      <th>3</th>\n",
              "      <td>2024-06-01T00:00:00+02:00</td>\n",
              "    </tr>\n",
              "    <tr>\n",
              "      <th>4</th>\n",
              "      <td>2024-06-01T00:00:00+02:00</td>\n",
              "    </tr>\n",
              "  </tbody>\n",
              "</table>\n",
              "</div><br><label><b>dtype:</b> object</label>"
            ]
          },
          "metadata": {},
          "execution_count": 9
        }
      ]
    },
    {
      "cell_type": "markdown",
      "source": [
        "Les dates et les heures sont combinées dans des chaines au pattern suivant 'AAA-MM-JJ HH:MM:SS+02:00'. Le code suivant permet d'extraire les dates et les heures : il convertit les chaines de caractères en objets datetime, desquels il est possible d'extraire les différentes composantes de temps. Deux nouvelles colonnes 'Date' et 'Heure' sont créees. Nous les convertissons en chaines de caractère pour simplifier certaines opérations ultérieures."
      ],
      "metadata": {
        "id": "mfGwaBLhjdsO"
      }
    },
    {
      "cell_type": "code",
      "source": [
        "#Conversion des chaines de caractère en objets datetime\n",
        "bike_data['Date et heure de comptage'] = pd.to_datetime(bike_data['Date et heure de comptage'])\n",
        "\n",
        "#Extraction date\n",
        "bike_data['Date'] = bike_data['Date et heure de comptage'].dt.date.astype(str)\n",
        "\n",
        "# Extraire heure\n",
        "bike_data['Heure'] = bike_data['Date et heure de comptage'].dt.time.astype(str)"
      ],
      "metadata": {
        "id": "xXemyCFCi7QN"
      },
      "execution_count": null,
      "outputs": []
    },
    {
      "cell_type": "markdown",
      "source": [
        "Passons maintenant à une autre étape dans l'étude de nos données : la qualité. Cette étape consiste à repérer la présence de données manquantes et d'éventuelles valeurs aberrantes."
      ],
      "metadata": {
        "id": "Sqh12iqImiOu"
      }
    },
    {
      "cell_type": "markdown",
      "source": [
        "**Qualité des données**\n",
        "\n",
        "Nous allons nous concentrer dans cette partie sur les données de comptages en elles mêmes. Afin de vérifier la quantité de valeurs manquantes, il faut estimer le nombre de pas de temps, pour lesquels il n'y a pas de comptages et cela pour chaque capteur. Pour cela, dans un premier temps nous allons étendre la base de données. Nous allons créer une nouvelle base 'bike_data_spread'. Dans cette base, chaque 'Nom du compteur' de bike_data devient une colonne et les valeurs dans la colonne 'Comptage horaire' remplissent ces colonnes, [vous pouvez utiliser la méthode .'pivot()' de pandas](https://pandas.pydata.org/docs/reference/api/pandas.DataFrame.pivot.html?utm_source=chatgpt.com). Pensez à prendre comme index les colonnes 'Date' ET 'Heure'."
      ],
      "metadata": {
        "id": "m5Ilk5dUnKCI"
      }
    },
    {
      "cell_type": "code",
      "source": [
        "bike_data_spread = ...\n",
        "bike_data_spread.head()"
      ],
      "metadata": {
        "colab": {
          "base_uri": "https://localhost:8080/",
          "height": 443
        },
        "id": "DhPOc4G5rP21",
        "outputId": "c938dbfd-be2f-42b3-f8d7-580c57b0d0ee"
      },
      "execution_count": null,
      "outputs": [
        {
          "output_type": "execute_result",
          "data": {
            "text/plain": [
              "Nom du compteur      10 avenue de la Grande Armée SE-NO  \\\n",
              "Date       Heure                                          \n",
              "2024-06-01 00:00:00                                19.0   \n",
              "           01:00:00                                14.0   \n",
              "           02:00:00                                22.0   \n",
              "           03:00:00                                11.0   \n",
              "           04:00:00                                13.0   \n",
              "\n",
              "Nom du compteur      10 boulevard Auguste Blanqui NE-SO  \\\n",
              "Date       Heure                                          \n",
              "2024-06-01 00:00:00                                11.0   \n",
              "           01:00:00                                10.0   \n",
              "           02:00:00                                14.0   \n",
              "           03:00:00                                 8.0   \n",
              "           04:00:00                                 4.0   \n",
              "\n",
              "Nom du compteur      102 boulevard de Magenta SE-NO  \\\n",
              "Date       Heure                                      \n",
              "2024-06-01 00:00:00                           191.0   \n",
              "           01:00:00                           144.0   \n",
              "           02:00:00                           184.0   \n",
              "           03:00:00                            89.0   \n",
              "           04:00:00                            62.0   \n",
              "\n",
              "Nom du compteur      106 avenue Denfert Rochereau NE-SO  \\\n",
              "Date       Heure                                          \n",
              "2024-06-01 00:00:00                                 0.0   \n",
              "           01:00:00                                 0.0   \n",
              "           02:00:00                                 0.0   \n",
              "           03:00:00                                 0.0   \n",
              "           04:00:00                                 0.0   \n",
              "\n",
              "Nom du compteur      129 rue Lecourbe SO-NE  132 rue Lecourbe NE-SO  \\\n",
              "Date       Heure                                                      \n",
              "2024-06-01 00:00:00                    15.0                    39.0   \n",
              "           01:00:00                     5.0                    24.0   \n",
              "           02:00:00                    11.0                    24.0   \n",
              "           03:00:00                     4.0                    19.0   \n",
              "           04:00:00                     4.0                    16.0   \n",
              "\n",
              "Nom du compteur      135 avenue Daumesnil SE-NO  147 avenue d'Italie S-N  \\\n",
              "Date       Heure                                                           \n",
              "2024-06-01 00:00:00                        20.0                     23.0   \n",
              "           01:00:00                        30.0                     10.0   \n",
              "           02:00:00                         6.0                      6.0   \n",
              "           03:00:00                         1.0                      5.0   \n",
              "           04:00:00                         8.0                      4.0   \n",
              "\n",
              "Nom du compteur      152 boulevard du Montparnasse E-O  \\\n",
              "Date       Heure                                         \n",
              "2024-06-01 00:00:00                               28.0   \n",
              "           01:00:00                               15.0   \n",
              "           02:00:00                               16.0   \n",
              "           03:00:00                                6.0   \n",
              "           04:00:00                                9.0   \n",
              "\n",
              "Nom du compteur      152 boulevard du Montparnasse O-E  ...  \\\n",
              "Date       Heure                                        ...   \n",
              "2024-06-01 00:00:00                               15.0  ...   \n",
              "           01:00:00                                8.0  ...   \n",
              "           02:00:00                                8.0  ...   \n",
              "           03:00:00                                7.0  ...   \n",
              "           04:00:00                                9.0  ...   \n",
              "\n",
              "Nom du compteur      Totem 64 Rue de Rivoli Totem 64 Rue de Rivoli Vélos E-O  \\\n",
              "Date       Heure                                                               \n",
              "2024-06-01 00:00:00                                               54.0         \n",
              "           01:00:00                                               56.0         \n",
              "           02:00:00                                               35.0         \n",
              "           03:00:00                                               22.0         \n",
              "           04:00:00                                               14.0         \n",
              "\n",
              "Nom du compteur      Totem 64 Rue de Rivoli Totem 64 Rue de Rivoli Vélos O-E  \\\n",
              "Date       Heure                                                               \n",
              "2024-06-01 00:00:00                                              118.0         \n",
              "           01:00:00                                               57.0         \n",
              "           02:00:00                                               95.0         \n",
              "           03:00:00                                               46.0         \n",
              "           04:00:00                                               30.0         \n",
              "\n",
              "Nom du compteur      Totem 73 boulevard de Sébastopol N-S  \\\n",
              "Date       Heure                                            \n",
              "2024-06-01 00:00:00                                 133.0   \n",
              "           01:00:00                                  96.0   \n",
              "           02:00:00                                 126.0   \n",
              "           03:00:00                                  45.0   \n",
              "           04:00:00                                  40.0   \n",
              "\n",
              "Nom du compteur      Totem 73 boulevard de Sébastopol S-N  \\\n",
              "Date       Heure                                            \n",
              "2024-06-01 00:00:00                                 211.0   \n",
              "           01:00:00                                 140.0   \n",
              "           02:00:00                                 155.0   \n",
              "           03:00:00                                  55.0   \n",
              "           04:00:00                                  54.0   \n",
              "\n",
              "Nom du compteur      Totem 85 quai d'Austerlitz NO-SE  \\\n",
              "Date       Heure                                        \n",
              "2024-06-01 00:00:00                              24.0   \n",
              "           01:00:00                              12.0   \n",
              "           02:00:00                              11.0   \n",
              "           03:00:00                               7.0   \n",
              "           04:00:00                               9.0   \n",
              "\n",
              "Nom du compteur      Totem 85 quai d'Austerlitz SE-NO  \\\n",
              "Date       Heure                                        \n",
              "2024-06-01 00:00:00                              51.0   \n",
              "           01:00:00                              36.0   \n",
              "           02:00:00                              57.0   \n",
              "           03:00:00                              27.0   \n",
              "           04:00:00                              17.0   \n",
              "\n",
              "Nom du compteur      Totem Cours la Reine E-O  Totem Cours la Reine O-E  \\\n",
              "Date       Heure                                                          \n",
              "2024-06-01 00:00:00                       0.0                       0.0   \n",
              "           01:00:00                       0.0                       0.0   \n",
              "           02:00:00                       0.0                       0.0   \n",
              "           03:00:00                       0.0                       0.0   \n",
              "           04:00:00                       0.0                       0.0   \n",
              "\n",
              "Nom du compteur      Voie Georges Pompidou NE-SO  Voie Georges Pompidou SO-NE  \n",
              "Date       Heure                                                               \n",
              "2024-06-01 00:00:00                         14.0                         22.0  \n",
              "           01:00:00                          4.0                         13.0  \n",
              "           02:00:00                         13.0                         14.0  \n",
              "           03:00:00                          8.0                          6.0  \n",
              "           04:00:00                          3.0                          4.0  \n",
              "\n",
              "[5 rows x 97 columns]"
            ],
            "text/html": [
              "\n",
              "  <div id=\"df-eeac1863-9449-4d8c-a69c-2e36db946888\" class=\"colab-df-container\">\n",
              "    <div>\n",
              "<style scoped>\n",
              "    .dataframe tbody tr th:only-of-type {\n",
              "        vertical-align: middle;\n",
              "    }\n",
              "\n",
              "    .dataframe tbody tr th {\n",
              "        vertical-align: top;\n",
              "    }\n",
              "\n",
              "    .dataframe thead th {\n",
              "        text-align: right;\n",
              "    }\n",
              "</style>\n",
              "<table border=\"1\" class=\"dataframe\">\n",
              "  <thead>\n",
              "    <tr style=\"text-align: right;\">\n",
              "      <th></th>\n",
              "      <th>Nom du compteur</th>\n",
              "      <th>10 avenue de la Grande Armée SE-NO</th>\n",
              "      <th>10 boulevard Auguste Blanqui NE-SO</th>\n",
              "      <th>102 boulevard de Magenta SE-NO</th>\n",
              "      <th>106 avenue Denfert Rochereau NE-SO</th>\n",
              "      <th>129 rue Lecourbe SO-NE</th>\n",
              "      <th>132 rue Lecourbe NE-SO</th>\n",
              "      <th>135 avenue Daumesnil SE-NO</th>\n",
              "      <th>147 avenue d'Italie S-N</th>\n",
              "      <th>152 boulevard du Montparnasse E-O</th>\n",
              "      <th>152 boulevard du Montparnasse O-E</th>\n",
              "      <th>...</th>\n",
              "      <th>Totem 64 Rue de Rivoli Totem 64 Rue de Rivoli Vélos E-O</th>\n",
              "      <th>Totem 64 Rue de Rivoli Totem 64 Rue de Rivoli Vélos O-E</th>\n",
              "      <th>Totem 73 boulevard de Sébastopol N-S</th>\n",
              "      <th>Totem 73 boulevard de Sébastopol S-N</th>\n",
              "      <th>Totem 85 quai d'Austerlitz NO-SE</th>\n",
              "      <th>Totem 85 quai d'Austerlitz SE-NO</th>\n",
              "      <th>Totem Cours la Reine E-O</th>\n",
              "      <th>Totem Cours la Reine O-E</th>\n",
              "      <th>Voie Georges Pompidou NE-SO</th>\n",
              "      <th>Voie Georges Pompidou SO-NE</th>\n",
              "    </tr>\n",
              "    <tr>\n",
              "      <th>Date</th>\n",
              "      <th>Heure</th>\n",
              "      <th></th>\n",
              "      <th></th>\n",
              "      <th></th>\n",
              "      <th></th>\n",
              "      <th></th>\n",
              "      <th></th>\n",
              "      <th></th>\n",
              "      <th></th>\n",
              "      <th></th>\n",
              "      <th></th>\n",
              "      <th></th>\n",
              "      <th></th>\n",
              "      <th></th>\n",
              "      <th></th>\n",
              "      <th></th>\n",
              "      <th></th>\n",
              "      <th></th>\n",
              "      <th></th>\n",
              "      <th></th>\n",
              "      <th></th>\n",
              "      <th></th>\n",
              "    </tr>\n",
              "  </thead>\n",
              "  <tbody>\n",
              "    <tr>\n",
              "      <th rowspan=\"5\" valign=\"top\">2024-06-01</th>\n",
              "      <th>00:00:00</th>\n",
              "      <td>19.0</td>\n",
              "      <td>11.0</td>\n",
              "      <td>191.0</td>\n",
              "      <td>0.0</td>\n",
              "      <td>15.0</td>\n",
              "      <td>39.0</td>\n",
              "      <td>20.0</td>\n",
              "      <td>23.0</td>\n",
              "      <td>28.0</td>\n",
              "      <td>15.0</td>\n",
              "      <td>...</td>\n",
              "      <td>54.0</td>\n",
              "      <td>118.0</td>\n",
              "      <td>133.0</td>\n",
              "      <td>211.0</td>\n",
              "      <td>24.0</td>\n",
              "      <td>51.0</td>\n",
              "      <td>0.0</td>\n",
              "      <td>0.0</td>\n",
              "      <td>14.0</td>\n",
              "      <td>22.0</td>\n",
              "    </tr>\n",
              "    <tr>\n",
              "      <th>01:00:00</th>\n",
              "      <td>14.0</td>\n",
              "      <td>10.0</td>\n",
              "      <td>144.0</td>\n",
              "      <td>0.0</td>\n",
              "      <td>5.0</td>\n",
              "      <td>24.0</td>\n",
              "      <td>30.0</td>\n",
              "      <td>10.0</td>\n",
              "      <td>15.0</td>\n",
              "      <td>8.0</td>\n",
              "      <td>...</td>\n",
              "      <td>56.0</td>\n",
              "      <td>57.0</td>\n",
              "      <td>96.0</td>\n",
              "      <td>140.0</td>\n",
              "      <td>12.0</td>\n",
              "      <td>36.0</td>\n",
              "      <td>0.0</td>\n",
              "      <td>0.0</td>\n",
              "      <td>4.0</td>\n",
              "      <td>13.0</td>\n",
              "    </tr>\n",
              "    <tr>\n",
              "      <th>02:00:00</th>\n",
              "      <td>22.0</td>\n",
              "      <td>14.0</td>\n",
              "      <td>184.0</td>\n",
              "      <td>0.0</td>\n",
              "      <td>11.0</td>\n",
              "      <td>24.0</td>\n",
              "      <td>6.0</td>\n",
              "      <td>6.0</td>\n",
              "      <td>16.0</td>\n",
              "      <td>8.0</td>\n",
              "      <td>...</td>\n",
              "      <td>35.0</td>\n",
              "      <td>95.0</td>\n",
              "      <td>126.0</td>\n",
              "      <td>155.0</td>\n",
              "      <td>11.0</td>\n",
              "      <td>57.0</td>\n",
              "      <td>0.0</td>\n",
              "      <td>0.0</td>\n",
              "      <td>13.0</td>\n",
              "      <td>14.0</td>\n",
              "    </tr>\n",
              "    <tr>\n",
              "      <th>03:00:00</th>\n",
              "      <td>11.0</td>\n",
              "      <td>8.0</td>\n",
              "      <td>89.0</td>\n",
              "      <td>0.0</td>\n",
              "      <td>4.0</td>\n",
              "      <td>19.0</td>\n",
              "      <td>1.0</td>\n",
              "      <td>5.0</td>\n",
              "      <td>6.0</td>\n",
              "      <td>7.0</td>\n",
              "      <td>...</td>\n",
              "      <td>22.0</td>\n",
              "      <td>46.0</td>\n",
              "      <td>45.0</td>\n",
              "      <td>55.0</td>\n",
              "      <td>7.0</td>\n",
              "      <td>27.0</td>\n",
              "      <td>0.0</td>\n",
              "      <td>0.0</td>\n",
              "      <td>8.0</td>\n",
              "      <td>6.0</td>\n",
              "    </tr>\n",
              "    <tr>\n",
              "      <th>04:00:00</th>\n",
              "      <td>13.0</td>\n",
              "      <td>4.0</td>\n",
              "      <td>62.0</td>\n",
              "      <td>0.0</td>\n",
              "      <td>4.0</td>\n",
              "      <td>16.0</td>\n",
              "      <td>8.0</td>\n",
              "      <td>4.0</td>\n",
              "      <td>9.0</td>\n",
              "      <td>9.0</td>\n",
              "      <td>...</td>\n",
              "      <td>14.0</td>\n",
              "      <td>30.0</td>\n",
              "      <td>40.0</td>\n",
              "      <td>54.0</td>\n",
              "      <td>9.0</td>\n",
              "      <td>17.0</td>\n",
              "      <td>0.0</td>\n",
              "      <td>0.0</td>\n",
              "      <td>3.0</td>\n",
              "      <td>4.0</td>\n",
              "    </tr>\n",
              "  </tbody>\n",
              "</table>\n",
              "<p>5 rows × 97 columns</p>\n",
              "</div>\n",
              "    <div class=\"colab-df-buttons\">\n",
              "\n",
              "  <div class=\"colab-df-container\">\n",
              "    <button class=\"colab-df-convert\" onclick=\"convertToInteractive('df-eeac1863-9449-4d8c-a69c-2e36db946888')\"\n",
              "            title=\"Convert this dataframe to an interactive table.\"\n",
              "            style=\"display:none;\">\n",
              "\n",
              "  <svg xmlns=\"http://www.w3.org/2000/svg\" height=\"24px\" viewBox=\"0 -960 960 960\">\n",
              "    <path d=\"M120-120v-720h720v720H120Zm60-500h600v-160H180v160Zm220 220h160v-160H400v160Zm0 220h160v-160H400v160ZM180-400h160v-160H180v160Zm440 0h160v-160H620v160ZM180-180h160v-160H180v160Zm440 0h160v-160H620v160Z\"/>\n",
              "  </svg>\n",
              "    </button>\n",
              "\n",
              "  <style>\n",
              "    .colab-df-container {\n",
              "      display:flex;\n",
              "      gap: 12px;\n",
              "    }\n",
              "\n",
              "    .colab-df-convert {\n",
              "      background-color: #E8F0FE;\n",
              "      border: none;\n",
              "      border-radius: 50%;\n",
              "      cursor: pointer;\n",
              "      display: none;\n",
              "      fill: #1967D2;\n",
              "      height: 32px;\n",
              "      padding: 0 0 0 0;\n",
              "      width: 32px;\n",
              "    }\n",
              "\n",
              "    .colab-df-convert:hover {\n",
              "      background-color: #E2EBFA;\n",
              "      box-shadow: 0px 1px 2px rgba(60, 64, 67, 0.3), 0px 1px 3px 1px rgba(60, 64, 67, 0.15);\n",
              "      fill: #174EA6;\n",
              "    }\n",
              "\n",
              "    .colab-df-buttons div {\n",
              "      margin-bottom: 4px;\n",
              "    }\n",
              "\n",
              "    [theme=dark] .colab-df-convert {\n",
              "      background-color: #3B4455;\n",
              "      fill: #D2E3FC;\n",
              "    }\n",
              "\n",
              "    [theme=dark] .colab-df-convert:hover {\n",
              "      background-color: #434B5C;\n",
              "      box-shadow: 0px 1px 3px 1px rgba(0, 0, 0, 0.15);\n",
              "      filter: drop-shadow(0px 1px 2px rgba(0, 0, 0, 0.3));\n",
              "      fill: #FFFFFF;\n",
              "    }\n",
              "  </style>\n",
              "\n",
              "    <script>\n",
              "      const buttonEl =\n",
              "        document.querySelector('#df-eeac1863-9449-4d8c-a69c-2e36db946888 button.colab-df-convert');\n",
              "      buttonEl.style.display =\n",
              "        google.colab.kernel.accessAllowed ? 'block' : 'none';\n",
              "\n",
              "      async function convertToInteractive(key) {\n",
              "        const element = document.querySelector('#df-eeac1863-9449-4d8c-a69c-2e36db946888');\n",
              "        const dataTable =\n",
              "          await google.colab.kernel.invokeFunction('convertToInteractive',\n",
              "                                                    [key], {});\n",
              "        if (!dataTable) return;\n",
              "\n",
              "        const docLinkHtml = 'Like what you see? Visit the ' +\n",
              "          '<a target=\"_blank\" href=https://colab.research.google.com/notebooks/data_table.ipynb>data table notebook</a>'\n",
              "          + ' to learn more about interactive tables.';\n",
              "        element.innerHTML = '';\n",
              "        dataTable['output_type'] = 'display_data';\n",
              "        await google.colab.output.renderOutput(dataTable, element);\n",
              "        const docLink = document.createElement('div');\n",
              "        docLink.innerHTML = docLinkHtml;\n",
              "        element.appendChild(docLink);\n",
              "      }\n",
              "    </script>\n",
              "  </div>\n",
              "\n",
              "\n",
              "<div id=\"df-d287ad19-b9aa-4c1f-8c46-b80910775283\">\n",
              "  <button class=\"colab-df-quickchart\" onclick=\"quickchart('df-d287ad19-b9aa-4c1f-8c46-b80910775283')\"\n",
              "            title=\"Suggest charts\"\n",
              "            style=\"display:none;\">\n",
              "\n",
              "<svg xmlns=\"http://www.w3.org/2000/svg\" height=\"24px\"viewBox=\"0 0 24 24\"\n",
              "     width=\"24px\">\n",
              "    <g>\n",
              "        <path d=\"M19 3H5c-1.1 0-2 .9-2 2v14c0 1.1.9 2 2 2h14c1.1 0 2-.9 2-2V5c0-1.1-.9-2-2-2zM9 17H7v-7h2v7zm4 0h-2V7h2v10zm4 0h-2v-4h2v4z\"/>\n",
              "    </g>\n",
              "</svg>\n",
              "  </button>\n",
              "\n",
              "<style>\n",
              "  .colab-df-quickchart {\n",
              "      --bg-color: #E8F0FE;\n",
              "      --fill-color: #1967D2;\n",
              "      --hover-bg-color: #E2EBFA;\n",
              "      --hover-fill-color: #174EA6;\n",
              "      --disabled-fill-color: #AAA;\n",
              "      --disabled-bg-color: #DDD;\n",
              "  }\n",
              "\n",
              "  [theme=dark] .colab-df-quickchart {\n",
              "      --bg-color: #3B4455;\n",
              "      --fill-color: #D2E3FC;\n",
              "      --hover-bg-color: #434B5C;\n",
              "      --hover-fill-color: #FFFFFF;\n",
              "      --disabled-bg-color: #3B4455;\n",
              "      --disabled-fill-color: #666;\n",
              "  }\n",
              "\n",
              "  .colab-df-quickchart {\n",
              "    background-color: var(--bg-color);\n",
              "    border: none;\n",
              "    border-radius: 50%;\n",
              "    cursor: pointer;\n",
              "    display: none;\n",
              "    fill: var(--fill-color);\n",
              "    height: 32px;\n",
              "    padding: 0;\n",
              "    width: 32px;\n",
              "  }\n",
              "\n",
              "  .colab-df-quickchart:hover {\n",
              "    background-color: var(--hover-bg-color);\n",
              "    box-shadow: 0 1px 2px rgba(60, 64, 67, 0.3), 0 1px 3px 1px rgba(60, 64, 67, 0.15);\n",
              "    fill: var(--button-hover-fill-color);\n",
              "  }\n",
              "\n",
              "  .colab-df-quickchart-complete:disabled,\n",
              "  .colab-df-quickchart-complete:disabled:hover {\n",
              "    background-color: var(--disabled-bg-color);\n",
              "    fill: var(--disabled-fill-color);\n",
              "    box-shadow: none;\n",
              "  }\n",
              "\n",
              "  .colab-df-spinner {\n",
              "    border: 2px solid var(--fill-color);\n",
              "    border-color: transparent;\n",
              "    border-bottom-color: var(--fill-color);\n",
              "    animation:\n",
              "      spin 1s steps(1) infinite;\n",
              "  }\n",
              "\n",
              "  @keyframes spin {\n",
              "    0% {\n",
              "      border-color: transparent;\n",
              "      border-bottom-color: var(--fill-color);\n",
              "      border-left-color: var(--fill-color);\n",
              "    }\n",
              "    20% {\n",
              "      border-color: transparent;\n",
              "      border-left-color: var(--fill-color);\n",
              "      border-top-color: var(--fill-color);\n",
              "    }\n",
              "    30% {\n",
              "      border-color: transparent;\n",
              "      border-left-color: var(--fill-color);\n",
              "      border-top-color: var(--fill-color);\n",
              "      border-right-color: var(--fill-color);\n",
              "    }\n",
              "    40% {\n",
              "      border-color: transparent;\n",
              "      border-right-color: var(--fill-color);\n",
              "      border-top-color: var(--fill-color);\n",
              "    }\n",
              "    60% {\n",
              "      border-color: transparent;\n",
              "      border-right-color: var(--fill-color);\n",
              "    }\n",
              "    80% {\n",
              "      border-color: transparent;\n",
              "      border-right-color: var(--fill-color);\n",
              "      border-bottom-color: var(--fill-color);\n",
              "    }\n",
              "    90% {\n",
              "      border-color: transparent;\n",
              "      border-bottom-color: var(--fill-color);\n",
              "    }\n",
              "  }\n",
              "</style>\n",
              "\n",
              "  <script>\n",
              "    async function quickchart(key) {\n",
              "      const quickchartButtonEl =\n",
              "        document.querySelector('#' + key + ' button');\n",
              "      quickchartButtonEl.disabled = true;  // To prevent multiple clicks.\n",
              "      quickchartButtonEl.classList.add('colab-df-spinner');\n",
              "      try {\n",
              "        const charts = await google.colab.kernel.invokeFunction(\n",
              "            'suggestCharts', [key], {});\n",
              "      } catch (error) {\n",
              "        console.error('Error during call to suggestCharts:', error);\n",
              "      }\n",
              "      quickchartButtonEl.classList.remove('colab-df-spinner');\n",
              "      quickchartButtonEl.classList.add('colab-df-quickchart-complete');\n",
              "    }\n",
              "    (() => {\n",
              "      let quickchartButtonEl =\n",
              "        document.querySelector('#df-d287ad19-b9aa-4c1f-8c46-b80910775283 button');\n",
              "      quickchartButtonEl.style.display =\n",
              "        google.colab.kernel.accessAllowed ? 'block' : 'none';\n",
              "    })();\n",
              "  </script>\n",
              "</div>\n",
              "\n",
              "    </div>\n",
              "  </div>\n"
            ],
            "application/vnd.google.colaboratory.intrinsic+json": {
              "type": "dataframe",
              "variable_name": "bike_data_spread"
            }
          },
          "metadata": {},
          "execution_count": 51
        }
      ]
    },
    {
      "cell_type": "markdown",
      "source": [
        "Votre nouvelle table devrait contenir 97 colonnes, soit le nombre de capteurs, ainsi que deux index : la date et l'heure. Nous aimerions maintenant connaitre les 5 capteurs présentant le plus de valeurs manquantes. Pour cela nous allons appliquer une série de fonctions sur la base bike_data_spread. Utilisez les fonctions isna(), sum(), sort_values() et head() pour trouver ce résultat. sort_values() utilise un paramètre 'ascending' qui vous sera utile. Ces résultats sont crées dans la base 'capteurs_valeurs_manquantes'.\n",
        "\n",
        "Aide :\n",
        "Avec pandas, il est possible d'appliquer plusieurs fonctions successives à une dataframe. Par défaut ces fonctions s'appliquent aux colonnes. Si l'on souhaite appliquer deux fonctions successives à une dataframe, on peut l'écrire sous la *dataframe.fonction1().fonction2()* où fonction2() applique une fonction à une dataframe pré-transformée par fonction1(). Par exemple bike_data_spread.mean().head(10) calculerait la moyenne des comptages pour chaque capteur, et en afficherait 10.\n",
        "\n"
      ],
      "metadata": {
        "id": "e-ARB7dPuFtP"
      }
    },
    {
      "cell_type": "code",
      "source": [
        "capteurs_valeurs_manquantes = ....\n",
        "print(capteurs_valeurs_manquantes)"
      ],
      "metadata": {
        "colab": {
          "base_uri": "https://localhost:8080/",
          "height": 272
        },
        "id": "dQ4ssV7wubnr",
        "outputId": "c6d52c5c-d9a3-4664-8161-06019af798b1"
      },
      "execution_count": null,
      "outputs": [
        {
          "output_type": "execute_result",
          "data": {
            "text/plain": [
              "Nom du compteur\n",
              "Pont de la Concorde S-N                                    278\n",
              "Totem 64 Rue de Rivoli Totem 64 Rue de Rivoli Vélos O-E    130\n",
              "Totem 64 Rue de Rivoli Totem 64 Rue de Rivoli Vélos E-O    117\n",
              "Face au 48 quai de la marne SO-NE                           93\n",
              "Face au 48 quai de la marne NE-SO                           81\n",
              "dtype: int64"
            ],
            "text/html": [
              "<div>\n",
              "<style scoped>\n",
              "    .dataframe tbody tr th:only-of-type {\n",
              "        vertical-align: middle;\n",
              "    }\n",
              "\n",
              "    .dataframe tbody tr th {\n",
              "        vertical-align: top;\n",
              "    }\n",
              "\n",
              "    .dataframe thead th {\n",
              "        text-align: right;\n",
              "    }\n",
              "</style>\n",
              "<table border=\"1\" class=\"dataframe\">\n",
              "  <thead>\n",
              "    <tr style=\"text-align: right;\">\n",
              "      <th></th>\n",
              "      <th>0</th>\n",
              "    </tr>\n",
              "    <tr>\n",
              "      <th>Nom du compteur</th>\n",
              "      <th></th>\n",
              "    </tr>\n",
              "  </thead>\n",
              "  <tbody>\n",
              "    <tr>\n",
              "      <th>Pont de la Concorde S-N</th>\n",
              "      <td>278</td>\n",
              "    </tr>\n",
              "    <tr>\n",
              "      <th>Totem 64 Rue de Rivoli Totem 64 Rue de Rivoli Vélos O-E</th>\n",
              "      <td>130</td>\n",
              "    </tr>\n",
              "    <tr>\n",
              "      <th>Totem 64 Rue de Rivoli Totem 64 Rue de Rivoli Vélos E-O</th>\n",
              "      <td>117</td>\n",
              "    </tr>\n",
              "    <tr>\n",
              "      <th>Face au 48 quai de la marne SO-NE</th>\n",
              "      <td>93</td>\n",
              "    </tr>\n",
              "    <tr>\n",
              "      <th>Face au 48 quai de la marne NE-SO</th>\n",
              "      <td>81</td>\n",
              "    </tr>\n",
              "  </tbody>\n",
              "</table>\n",
              "</div><br><label><b>dtype:</b> int64</label>"
            ]
          },
          "metadata": {},
          "execution_count": 12
        }
      ]
    },
    {
      "cell_type": "markdown",
      "source": [
        "Maintenant que fait on de ces données manquantes ? Ici il n'y a pas de solution toute faite, cela dépend du cas d'étude et de la quantité de données manquantes. On peut néanmoins penser à trois solutions :\n",
        "\n",
        "\n",
        "*   Dans le cas où un capteur présente une trop grande quantité de données manquantes, il devient difficile à exploiter et devrait être retiré.\n",
        "*   Dans le cas où les données manquantes sont peu nombreuses, on peut soit choisir de les ignorer, soit de les corriger via des méthodes de lissage.\n",
        "\n",
        "Dans notre cas, le capteur avec le plus de données manquantes, n'excède pas 280 manques, pour un total de 1583 pas de temps. Dans le cadre de ce TP nous conserverons les données manquantes telles quelles car elles ne présentent pas un impact important pour nos études.\n",
        "\n",
        "Passons à un rapide examen de la présence ou non de valeurs extrêmes (outliers) dans nos données. Ces données présentent des valeurs très grandes ou très petites par rapport au reste des données et peuvent soit provenir de phénomènes explicables, soit d'erreurs d'acquisitions.\n",
        "Dans le cadre d'un modèle d'apprentissage, ces données doivent être traitées, quelque soit leur origine. Si elles sont explicables, des éléments explicatifs devraient intégrer le modèle. Si elles sont le fruit d'erreurs, il faudrait les retirer ou les corriger. Une bonne manière d'étudier la distribution des valeurs dans une colonne de données, est de passer par un histogramme. Utilisez la fonction 'hist()' pour observer la distribution des données de comptages de la base 'bike_data'. [L'argument 'bins' peut vous être utile](https://pandas.pydata.org/docs/reference/api/pandas.DataFrame.hist.html).\n",
        "Que représentent les abscisses ? Les ordonnées ?\n",
        "D'après vous, les données présentent elles des valeurs extrèmes, inutilisables en tant que telles ?\n"
      ],
      "metadata": {
        "id": "_sBybcxUy6Qi"
      }
    },
    {
      "cell_type": "code",
      "source": [
        "histo = ....\n",
        "histo"
      ],
      "metadata": {
        "colab": {
          "base_uri": "https://localhost:8080/",
          "height": 447
        },
        "id": "VlV0TP1vyuiW",
        "outputId": "cccae3b7-ff31-4ec2-adef-6564a4202298"
      },
      "execution_count": null,
      "outputs": [
        {
          "output_type": "execute_result",
          "data": {
            "text/plain": [
              "<Axes: >"
            ]
          },
          "metadata": {},
          "execution_count": 13
        },
        {
          "output_type": "display_data",
          "data": {
            "text/plain": [
              "<Figure size 640x480 with 1 Axes>"
            ],
            "image/png": "[encoded data removed]"
          },
          "metadata": {}
        }
      ]
    },
    {
      "cell_type": "markdown",
      "source": [
        "**Calcul des moments**\n",
        "\n",
        "Afin de compléter notre analyse sur la base de données, nous pouvons nous pencher sur le calcul des moments (moyennes, variances, etc.). Pour commencer nous allons nous intéresser à l'échelle journalière. Construisez une nouvelle base 'bike_data_aggr' qui contient trois colonnes : le nom du capteur, la date et le comptage journalier. Pour cela utilisez la fonction 'groupby' sur le dataset bike_data pour grouper par compteur et date. Vous devriez spécifier les colonnes sur lesquelles vous souhaitez effectuer la somme de la colonne 'Comptage horaire', à savoir les colonnes 'Nom du compteur' et 'Date'. Utilisez ensuite la fonction 'sum' sur ces groupes afin de sommer les comptages. Inspirez vous des [exemples dans l'aide](https://pandas.pydata.org/docs/reference/api/pandas.DataFrame.groupby.html).\n",
        "\n",
        "Note : après groupby et sum, vous pouvez appliquer la fonction 'reset_index()'. Cette fonction transforme vos index 'Nom du compteur' et 'Date' en colonnes."
      ],
      "metadata": {
        "id": "viW_dKuDoEhi"
      }
    },
    {
      "cell_type": "code",
      "source": [
        "bike_data_aggr = bike_data.groupby(['Nom du compteur', 'Date'])['Comptage horaire'].sum().reset_index()\n",
        "bike_data_aggr"
      ],
      "metadata": {
        "colab": {
          "base_uri": "https://localhost:8080/",
          "height": 424
        },
        "id": "AqfK9EFPoj6u",
        "outputId": "52340cf1-6cbd-4c7d-8776-337c86725f1e"
      },
      "execution_count": null,
      "outputs": [
        {
          "output_type": "execute_result",
          "data": {
            "text/plain": [
              "                         Nom du compteur        Date  Comptage horaire\n",
              "0     10 avenue de la Grande Armée SE-NO  2024-06-01               565\n",
              "1     10 avenue de la Grande Armée SE-NO  2024-06-02               587\n",
              "2     10 avenue de la Grande Armée SE-NO  2024-06-03              1149\n",
              "3     10 avenue de la Grande Armée SE-NO  2024-06-04              1352\n",
              "4     10 avenue de la Grande Armée SE-NO  2024-06-05              1239\n",
              "...                                  ...         ...               ...\n",
              "7541         Voie Georges Pompidou SO-NE  2024-08-13              1225\n",
              "7542         Voie Georges Pompidou SO-NE  2024-08-14              1132\n",
              "7543         Voie Georges Pompidou SO-NE  2024-08-15              1115\n",
              "7544         Voie Georges Pompidou SO-NE  2024-08-16               974\n",
              "7545         Voie Georges Pompidou SO-NE  2024-08-17               305\n",
              "\n",
              "[7546 rows x 3 columns]"
            ],
            "text/html": [
              "\n",
              "  <div id=\"df-31e41874-57d7-41e1-a5c7-6e30ad6630b0\" class=\"colab-df-container\">\n",
              "    <div>\n",
              "<style scoped>\n",
              "    .dataframe tbody tr th:only-of-type {\n",
              "        vertical-align: middle;\n",
              "    }\n",
              "\n",
              "    .dataframe tbody tr th {\n",
              "        vertical-align: top;\n",
              "    }\n",
              "\n",
              "    .dataframe thead th {\n",
              "        text-align: right;\n",
              "    }\n",
              "</style>\n",
              "<table border=\"1\" class=\"dataframe\">\n",
              "  <thead>\n",
              "    <tr style=\"text-align: right;\">\n",
              "      <th></th>\n",
              "      <th>Nom du compteur</th>\n",
              "      <th>Date</th>\n",
              "      <th>Comptage horaire</th>\n",
              "    </tr>\n",
              "  </thead>\n",
              "  <tbody>\n",
              "    <tr>\n",
              "      <th>0</th>\n",
              "      <td>10 avenue de la Grande Armée SE-NO</td>\n",
              "      <td>2024-06-01</td>\n",
              "      <td>565</td>\n",
              "    </tr>\n",
              "    <tr>\n",
              "      <th>1</th>\n",
              "      <td>10 avenue de la Grande Armée SE-NO</td>\n",
              "      <td>2024-06-02</td>\n",
              "      <td>587</td>\n",
              "    </tr>\n",
              "    <tr>\n",
              "      <th>2</th>\n",
              "      <td>10 avenue de la Grande Armée SE-NO</td>\n",
              "      <td>2024-06-03</td>\n",
              "      <td>1149</td>\n",
              "    </tr>\n",
              "    <tr>\n",
              "      <th>3</th>\n",
              "      <td>10 avenue de la Grande Armée SE-NO</td>\n",
              "      <td>2024-06-04</td>\n",
              "      <td>1352</td>\n",
              "    </tr>\n",
              "    <tr>\n",
              "      <th>4</th>\n",
              "      <td>10 avenue de la Grande Armée SE-NO</td>\n",
              "      <td>2024-06-05</td>\n",
              "      <td>1239</td>\n",
              "    </tr>\n",
              "    <tr>\n",
              "      <th>...</th>\n",
              "      <td>...</td>\n",
              "      <td>...</td>\n",
              "      <td>...</td>\n",
              "    </tr>\n",
              "    <tr>\n",
              "      <th>7541</th>\n",
              "      <td>Voie Georges Pompidou SO-NE</td>\n",
              "      <td>2024-08-13</td>\n",
              "      <td>1225</td>\n",
              "    </tr>\n",
              "    <tr>\n",
              "      <th>7542</th>\n",
              "      <td>Voie Georges Pompidou SO-NE</td>\n",
              "      <td>2024-08-14</td>\n",
              "      <td>1132</td>\n",
              "    </tr>\n",
              "    <tr>\n",
              "      <th>7543</th>\n",
              "      <td>Voie Georges Pompidou SO-NE</td>\n",
              "      <td>2024-08-15</td>\n",
              "      <td>1115</td>\n",
              "    </tr>\n",
              "    <tr>\n",
              "      <th>7544</th>\n",
              "      <td>Voie Georges Pompidou SO-NE</td>\n",
              "      <td>2024-08-16</td>\n",
              "      <td>974</td>\n",
              "    </tr>\n",
              "    <tr>\n",
              "      <th>7545</th>\n",
              "      <td>Voie Georges Pompidou SO-NE</td>\n",
              "      <td>2024-08-17</td>\n",
              "      <td>305</td>\n",
              "    </tr>\n",
              "  </tbody>\n",
              "</table>\n",
              "<p>7546 rows × 3 columns</p>\n",
              "</div>\n",
              "    <div class=\"colab-df-buttons\">\n",
              "\n",
              "  <div class=\"colab-df-container\">\n",
              "    <button class=\"colab-df-convert\" onclick=\"convertToInteractive('df-31e41874-57d7-41e1-a5c7-6e30ad6630b0')\"\n",
              "            title=\"Convert this dataframe to an interactive table.\"\n",
              "            style=\"display:none;\">\n",
              "\n",
              "  <svg xmlns=\"http://www.w3.org/2000/svg\" height=\"24px\" viewBox=\"0 -960 960 960\">\n",
              "    <path d=\"M120-120v-720h720v720H120Zm60-500h600v-160H180v160Zm220 220h160v-160H400v160Zm0 220h160v-160H400v160ZM180-400h160v-160H180v160Zm440 0h160v-160H620v160ZM180-180h160v-160H180v160Zm440 0h160v-160H620v160Z\"/>\n",
              "  </svg>\n",
              "    </button>\n",
              "\n",
              "  <style>\n",
              "    .colab-df-container {\n",
              "      display:flex;\n",
              "      gap: 12px;\n",
              "    }\n",
              "\n",
              "    .colab-df-convert {\n",
              "      background-color: #E8F0FE;\n",
              "      border: none;\n",
              "      border-radius: 50%;\n",
              "      cursor: pointer;\n",
              "      display: none;\n",
              "      fill: #1967D2;\n",
              "      height: 32px;\n",
              "      padding: 0 0 0 0;\n",
              "      width: 32px;\n",
              "    }\n",
              "\n",
              "    .colab-df-convert:hover {\n",
              "      background-color: #E2EBFA;\n",
              "      box-shadow: 0px 1px 2px rgba(60, 64, 67, 0.3), 0px 1px 3px 1px rgba(60, 64, 67, 0.15);\n",
              "      fill: #174EA6;\n",
              "    }\n",
              "\n",
              "    .colab-df-buttons div {\n",
              "      margin-bottom: 4px;\n",
              "    }\n",
              "\n",
              "    [theme=dark] .colab-df-convert {\n",
              "      background-color: #3B4455;\n",
              "      fill: #D2E3FC;\n",
              "    }\n",
              "\n",
              "    [theme=dark] .colab-df-convert:hover {\n",
              "      background-color: #434B5C;\n",
              "      box-shadow: 0px 1px 3px 1px rgba(0, 0, 0, 0.15);\n",
              "      filter: drop-shadow(0px 1px 2px rgba(0, 0, 0, 0.3));\n",
              "      fill: #FFFFFF;\n",
              "    }\n",
              "  </style>\n",
              "\n",
              "    <script>\n",
              "      const buttonEl =\n",
              "        document.querySelector('#df-31e41874-57d7-41e1-a5c7-6e30ad6630b0 button.colab-df-convert');\n",
              "      buttonEl.style.display =\n",
              "        google.colab.kernel.accessAllowed ? 'block' : 'none';\n",
              "\n",
              "      async function convertToInteractive(key) {\n",
              "        const element = document.querySelector('#df-31e41874-57d7-41e1-a5c7-6e30ad6630b0');\n",
              "        const dataTable =\n",
              "          await google.colab.kernel.invokeFunction('convertToInteractive',\n",
              "                                                    [key], {});\n",
              "        if (!dataTable) return;\n",
              "\n",
              "        const docLinkHtml = 'Like what you see? Visit the ' +\n",
              "          '<a target=\"_blank\" href=https://colab.research.google.com/notebooks/data_table.ipynb>data table notebook</a>'\n",
              "          + ' to learn more about interactive tables.';\n",
              "        element.innerHTML = '';\n",
              "        dataTable['output_type'] = 'display_data';\n",
              "        await google.colab.output.renderOutput(dataTable, element);\n",
              "        const docLink = document.createElement('div');\n",
              "        docLink.innerHTML = docLinkHtml;\n",
              "        element.appendChild(docLink);\n",
              "      }\n",
              "    </script>\n",
              "  </div>\n",
              "\n",
              "\n",
              "<div id=\"df-188f5f4c-66c9-485a-a635-bd717c996ceb\">\n",
              "  <button class=\"colab-df-quickchart\" onclick=\"quickchart('df-188f5f4c-66c9-485a-a635-bd717c996ceb')\"\n",
              "            title=\"Suggest charts\"\n",
              "            style=\"display:none;\">\n",
              "\n",
              "<svg xmlns=\"http://www.w3.org/2000/svg\" height=\"24px\"viewBox=\"0 0 24 24\"\n",
              "     width=\"24px\">\n",
              "    <g>\n",
              "        <path d=\"M19 3H5c-1.1 0-2 .9-2 2v14c0 1.1.9 2 2 2h14c1.1 0 2-.9 2-2V5c0-1.1-.9-2-2-2zM9 17H7v-7h2v7zm4 0h-2V7h2v10zm4 0h-2v-4h2v4z\"/>\n",
              "    </g>\n",
              "</svg>\n",
              "  </button>\n",
              "\n",
              "<style>\n",
              "  .colab-df-quickchart {\n",
              "      --bg-color: #E8F0FE;\n",
              "      --fill-color: #1967D2;\n",
              "      --hover-bg-color: #E2EBFA;\n",
              "      --hover-fill-color: #174EA6;\n",
              "      --disabled-fill-color: #AAA;\n",
              "      --disabled-bg-color: #DDD;\n",
              "  }\n",
              "\n",
              "  [theme=dark] .colab-df-quickchart {\n",
              "      --bg-color: #3B4455;\n",
              "      --fill-color: #D2E3FC;\n",
              "      --hover-bg-color: #434B5C;\n",
              "      --hover-fill-color: #FFFFFF;\n",
              "      --disabled-bg-color: #3B4455;\n",
              "      --disabled-fill-color: #666;\n",
              "  }\n",
              "\n",
              "  .colab-df-quickchart {\n",
              "    background-color: var(--bg-color);\n",
              "    border: none;\n",
              "    border-radius: 50%;\n",
              "    cursor: pointer;\n",
              "    display: none;\n",
              "    fill: var(--fill-color);\n",
              "    height: 32px;\n",
              "    padding: 0;\n",
              "    width: 32px;\n",
              "  }\n",
              "\n",
              "  .colab-df-quickchart:hover {\n",
              "    background-color: var(--hover-bg-color);\n",
              "    box-shadow: 0 1px 2px rgba(60, 64, 67, 0.3), 0 1px 3px 1px rgba(60, 64, 67, 0.15);\n",
              "    fill: var(--button-hover-fill-color);\n",
              "  }\n",
              "\n",
              "  .colab-df-quickchart-complete:disabled,\n",
              "  .colab-df-quickchart-complete:disabled:hover {\n",
              "    background-color: var(--disabled-bg-color);\n",
              "    fill: var(--disabled-fill-color);\n",
              "    box-shadow: none;\n",
              "  }\n",
              "\n",
              "  .colab-df-spinner {\n",
              "    border: 2px solid var(--fill-color);\n",
              "    border-color: transparent;\n",
              "    border-bottom-color: var(--fill-color);\n",
              "    animation:\n",
              "      spin 1s steps(1) infinite;\n",
              "  }\n",
              "\n",
              "  @keyframes spin {\n",
              "    0% {\n",
              "      border-color: transparent;\n",
              "      border-bottom-color: var(--fill-color);\n",
              "      border-left-color: var(--fill-color);\n",
              "    }\n",
              "    20% {\n",
              "      border-color: transparent;\n",
              "      border-left-color: var(--fill-color);\n",
              "      border-top-color: var(--fill-color);\n",
              "    }\n",
              "    30% {\n",
              "      border-color: transparent;\n",
              "      border-left-color: var(--fill-color);\n",
              "      border-top-color: var(--fill-color);\n",
              "      border-right-color: var(--fill-color);\n",
              "    }\n",
              "    40% {\n",
              "      border-color: transparent;\n",
              "      border-right-color: var(--fill-color);\n",
              "      border-top-color: var(--fill-color);\n",
              "    }\n",
              "    60% {\n",
              "      border-color: transparent;\n",
              "      border-right-color: var(--fill-color);\n",
              "    }\n",
              "    80% {\n",
              "      border-color: transparent;\n",
              "      border-right-color: var(--fill-color);\n",
              "      border-bottom-color: var(--fill-color);\n",
              "    }\n",
              "    90% {\n",
              "      border-color: transparent;\n",
              "      border-bottom-color: var(--fill-color);\n",
              "    }\n",
              "  }\n",
              "</style>\n",
              "\n",
              "  <script>\n",
              "    async function quickchart(key) {\n",
              "      const quickchartButtonEl =\n",
              "        document.querySelector('#' + key + ' button');\n",
              "      quickchartButtonEl.disabled = true;  // To prevent multiple clicks.\n",
              "      quickchartButtonEl.classList.add('colab-df-spinner');\n",
              "      try {\n",
              "        const charts = await google.colab.kernel.invokeFunction(\n",
              "            'suggestCharts', [key], {});\n",
              "      } catch (error) {\n",
              "        console.error('Error during call to suggestCharts:', error);\n",
              "      }\n",
              "      quickchartButtonEl.classList.remove('colab-df-spinner');\n",
              "      quickchartButtonEl.classList.add('colab-df-quickchart-complete');\n",
              "    }\n",
              "    (() => {\n",
              "      let quickchartButtonEl =\n",
              "        document.querySelector('#df-188f5f4c-66c9-485a-a635-bd717c996ceb button');\n",
              "      quickchartButtonEl.style.display =\n",
              "        google.colab.kernel.accessAllowed ? 'block' : 'none';\n",
              "    })();\n",
              "  </script>\n",
              "</div>\n",
              "\n",
              "  <div id=\"id_0706d29a-5ade-4dac-bdd6-0b3314eff08c\">\n",
              "    <style>\n",
              "      .colab-df-generate {\n",
              "        background-color: #E8F0FE;\n",
              "        border: none;\n",
              "        border-radius: 50%;\n",
              "        cursor: pointer;\n",
              "        display: none;\n",
              "        fill: #1967D2;\n",
              "        height: 32px;\n",
              "        padding: 0 0 0 0;\n",
              "        width: 32px;\n",
              "      }\n",
              "\n",
              "      .colab-df-generate:hover {\n",
              "        background-color: #E2EBFA;\n",
              "        box-shadow: 0px 1px 2px rgba(60, 64, 67, 0.3), 0px 1px 3px 1px rgba(60, 64, 67, 0.15);\n",
              "        fill: #174EA6;\n",
              "      }\n",
              "\n",
              "      [theme=dark] .colab-df-generate {\n",
              "        background-color: #3B4455;\n",
              "        fill: #D2E3FC;\n",
              "      }\n",
              "\n",
              "      [theme=dark] .colab-df-generate:hover {\n",
              "        background-color: #434B5C;\n",
              "        box-shadow: 0px 1px 3px 1px rgba(0, 0, 0, 0.15);\n",
              "        filter: drop-shadow(0px 1px 2px rgba(0, 0, 0, 0.3));\n",
              "        fill: #FFFFFF;\n",
              "      }\n",
              "    </style>\n",
              "    <button class=\"colab-df-generate\" onclick=\"generateWithVariable('bike_data_aggr')\"\n",
              "            title=\"Generate code using this dataframe.\"\n",
              "            style=\"display:none;\">\n",
              "\n",
              "  <svg xmlns=\"http://www.w3.org/2000/svg\" height=\"24px\"viewBox=\"0 0 24 24\"\n",
              "       width=\"24px\">\n",
              "    <path d=\"M7,19H8.4L18.45,9,17,7.55,7,17.6ZM5,21V16.75L18.45,3.32a2,2,0,0,1,2.83,0l1.4,1.43a1.91,1.91,0,0,1,.58,1.4,1.91,1.91,0,0,1-.58,1.4L9.25,21ZM18.45,9,17,7.55Zm-12,3A5.31,5.31,0,0,0,4.9,8.1,5.31,5.31,0,0,0,1,6.5,5.31,5.31,0,0,0,4.9,4.9,5.31,5.31,0,0,0,6.5,1,5.31,5.31,0,0,0,8.1,4.9,5.31,5.31,0,0,0,12,6.5,5.46,5.46,0,0,0,6.5,12Z\"/>\n",
              "  </svg>\n",
              "    </button>\n",
              "    <script>\n",
              "      (() => {\n",
              "      const buttonEl =\n",
              "        document.querySelector('#id_0706d29a-5ade-4dac-bdd6-0b3314eff08c button.colab-df-generate');\n",
              "      buttonEl.style.display =\n",
              "        google.colab.kernel.accessAllowed ? 'block' : 'none';\n",
              "\n",
              "      buttonEl.onclick = () => {\n",
              "        google.colab.notebook.generateWithVariable('bike_data_aggr');\n",
              "      }\n",
              "      })();\n",
              "    </script>\n",
              "  </div>\n",
              "\n",
              "    </div>\n",
              "  </div>\n"
            ],
            "application/vnd.google.colaboratory.intrinsic+json": {
              "type": "dataframe",
              "variable_name": "bike_data_aggr",
              "summary": "{\n  \"name\": \"bike_data_aggr\",\n  \"rows\": 7546,\n  \"fields\": [\n    {\n      \"column\": \"Nom du compteur\",\n      \"properties\": {\n        \"dtype\": \"category\",\n        \"num_unique_values\": 97,\n        \"samples\": [\n          \"Face au 40 quai D'Issy NE-SO\",\n          \"7 avenue de la Grande Arm\\u00e9e NO-SE\",\n          \"Totem Cours la Reine E-O\"\n        ],\n        \"semantic_type\": \"\",\n        \"description\": \"\"\n      }\n    },\n    {\n      \"column\": \"Date\",\n      \"properties\": {\n        \"dtype\": \"date\",\n        \"min\": \"2024-06-01\",\n        \"max\": \"2024-08-17\",\n        \"num_unique_values\": 78,\n        \"samples\": [\n          \"2024-07-04\",\n          \"2024-06-01\",\n          \"2024-07-05\"\n        ],\n        \"semantic_type\": \"\",\n        \"description\": \"\"\n      }\n    },\n    {\n      \"column\": \"Comptage horaire\",\n      \"properties\": {\n        \"dtype\": \"number\",\n        \"std\": 1771,\n        \"min\": 0,\n        \"max\": 12414,\n        \"num_unique_values\": 3603,\n        \"samples\": [\n          1,\n          756,\n          1726\n        ],\n        \"semantic_type\": \"\",\n        \"description\": \"\"\n      }\n    }\n  ]\n}"
            }
          },
          "metadata": {},
          "execution_count": 17
        }
      ]
    },
    {
      "cell_type": "markdown",
      "source": [
        "Nous allons maintenant nous intéresser au calcul du nombre moyen de comptages de vélos, par jour, à chaque compteur. Utilisez encore groupby et la fonction 'mean' sur la base bike_data_aggr. Trouvez les 5 compteurs avec les plus gros volumes moyens journaliers."
      ],
      "metadata": {
        "id": "CBrPbncSrcvl"
      }
    },
    {
      "cell_type": "code",
      "source": [
        "bike_data_aggr_mean_count = ...\n",
        "print(bike_data_aggr_mean_count)"
      ],
      "metadata": {
        "colab": {
          "base_uri": "https://localhost:8080/"
        },
        "id": "XhlgGXn-96w1",
        "outputId": "6ece28e7-9493-40f3-b809-761a0643c880"
      },
      "execution_count": 1,
      "outputs": [
        {
          "output_type": "stream",
          "name": "stdout",
          "text": [
            "Ellipsis\n"
          ]
        }
      ]
    },
    {
      "cell_type": "markdown",
      "source": [
        "Faites le même exercice mais pour calculer la médiane cette fois. Trouvez les 5 compteurs avec les plus gros volumes médians journaliers. Qu'observe t-on ? Obtient t-on les mêmes 5 compteurs qu'avant ? Pourquoi ?"
      ],
      "metadata": {
        "id": "QKJ8rkwS-IxY"
      }
    },
    {
      "cell_type": "code",
      "source": [
        "bike_data_aggr_median_count = ...\n",
        "print(bike_data_aggr_median_count)"
      ],
      "metadata": {
        "colab": {
          "base_uri": "https://localhost:8080/",
          "height": 272
        },
        "id": "Y99L6Av6-PqH",
        "outputId": "1b63f207-ace8-43f5-fe97-b9dcf18c6368"
      },
      "execution_count": null,
      "outputs": [
        {
          "output_type": "execute_result",
          "data": {
            "text/plain": [
              "Nom du compteur\n",
              "Totem 73 boulevard de Sébastopol S-N                       8405.0\n",
              "Totem 64 Rue de Rivoli Totem 64 Rue de Rivoli Vélos O-E    6812.0\n",
              "Quai d'Orsay E-O                                           6171.5\n",
              "102 boulevard de Magenta SE-NO                             6076.5\n",
              "Totem 73 boulevard de Sébastopol N-S                       5823.0\n",
              "Name: Comptage horaire, dtype: float64"
            ],
            "text/html": [
              "<div>\n",
              "<style scoped>\n",
              "    .dataframe tbody tr th:only-of-type {\n",
              "        vertical-align: middle;\n",
              "    }\n",
              "\n",
              "    .dataframe tbody tr th {\n",
              "        vertical-align: top;\n",
              "    }\n",
              "\n",
              "    .dataframe thead th {\n",
              "        text-align: right;\n",
              "    }\n",
              "</style>\n",
              "<table border=\"1\" class=\"dataframe\">\n",
              "  <thead>\n",
              "    <tr style=\"text-align: right;\">\n",
              "      <th></th>\n",
              "      <th>Comptage horaire</th>\n",
              "    </tr>\n",
              "    <tr>\n",
              "      <th>Nom du compteur</th>\n",
              "      <th></th>\n",
              "    </tr>\n",
              "  </thead>\n",
              "  <tbody>\n",
              "    <tr>\n",
              "      <th>Totem 73 boulevard de Sébastopol S-N</th>\n",
              "      <td>8405.0</td>\n",
              "    </tr>\n",
              "    <tr>\n",
              "      <th>Totem 64 Rue de Rivoli Totem 64 Rue de Rivoli Vélos O-E</th>\n",
              "      <td>6812.0</td>\n",
              "    </tr>\n",
              "    <tr>\n",
              "      <th>Quai d'Orsay E-O</th>\n",
              "      <td>6171.5</td>\n",
              "    </tr>\n",
              "    <tr>\n",
              "      <th>102 boulevard de Magenta SE-NO</th>\n",
              "      <td>6076.5</td>\n",
              "    </tr>\n",
              "    <tr>\n",
              "      <th>Totem 73 boulevard de Sébastopol N-S</th>\n",
              "      <td>5823.0</td>\n",
              "    </tr>\n",
              "  </tbody>\n",
              "</table>\n",
              "</div><br><label><b>dtype:</b> float64</label>"
            ]
          },
          "metadata": {},
          "execution_count": 19
        }
      ]
    },
    {
      "cell_type": "markdown",
      "source": [
        "Cherchez maintenant les 5 compteurs pour lesquels la variance d'utilisation quotidienne a été la plus forte au cours de la période d'étude. Pour cela utilisez la variance."
      ],
      "metadata": {
        "id": "vhLaa9tM-wDr"
      }
    },
    {
      "cell_type": "code",
      "source": [
        "bike_data_aggr_var_count = ...\n",
        "print(bike_data_aggr_var_count)"
      ],
      "metadata": {
        "colab": {
          "base_uri": "https://localhost:8080/",
          "height": 272
        },
        "id": "QJsFVcKPAh55",
        "outputId": "65dd1c1c-1cff-4406-9f48-05e26ea80c99"
      },
      "execution_count": null,
      "outputs": [
        {
          "output_type": "execute_result",
          "data": {
            "text/plain": [
              "Nom du compteur\n",
              "Quai d'Orsay E-O                        7.906167e+06\n",
              "Totem 73 boulevard de Sébastopol S-N    7.002975e+06\n",
              "Quai d'Orsay O-E                        5.713098e+06\n",
              "27 quai de la Tournelle SE-NO           3.359537e+06\n",
              "Totem 73 boulevard de Sébastopol N-S    2.721959e+06\n",
              "Name: Comptage horaire, dtype: float64"
            ],
            "text/html": [
              "<div>\n",
              "<style scoped>\n",
              "    .dataframe tbody tr th:only-of-type {\n",
              "        vertical-align: middle;\n",
              "    }\n",
              "\n",
              "    .dataframe tbody tr th {\n",
              "        vertical-align: top;\n",
              "    }\n",
              "\n",
              "    .dataframe thead th {\n",
              "        text-align: right;\n",
              "    }\n",
              "</style>\n",
              "<table border=\"1\" class=\"dataframe\">\n",
              "  <thead>\n",
              "    <tr style=\"text-align: right;\">\n",
              "      <th></th>\n",
              "      <th>Comptage horaire</th>\n",
              "    </tr>\n",
              "    <tr>\n",
              "      <th>Nom du compteur</th>\n",
              "      <th></th>\n",
              "    </tr>\n",
              "  </thead>\n",
              "  <tbody>\n",
              "    <tr>\n",
              "      <th>Quai d'Orsay E-O</th>\n",
              "      <td>7.906167e+06</td>\n",
              "    </tr>\n",
              "    <tr>\n",
              "      <th>Totem 73 boulevard de Sébastopol S-N</th>\n",
              "      <td>7.002975e+06</td>\n",
              "    </tr>\n",
              "    <tr>\n",
              "      <th>Quai d'Orsay O-E</th>\n",
              "      <td>5.713098e+06</td>\n",
              "    </tr>\n",
              "    <tr>\n",
              "      <th>27 quai de la Tournelle SE-NO</th>\n",
              "      <td>3.359537e+06</td>\n",
              "    </tr>\n",
              "    <tr>\n",
              "      <th>Totem 73 boulevard de Sébastopol N-S</th>\n",
              "      <td>2.721959e+06</td>\n",
              "    </tr>\n",
              "  </tbody>\n",
              "</table>\n",
              "</div><br><label><b>dtype:</b> float64</label>"
            ]
          },
          "metadata": {},
          "execution_count": 20
        }
      ]
    },
    {
      "cell_type": "markdown",
      "source": [
        "Trouvez le jour où la fréquentation a été la plus forte sur l'ensemble des pistes cyclables. Que remarquez vous ? Les grandes vacances avaient elles commencé ?"
      ],
      "metadata": {
        "id": "HUN2vviKBZ6N"
      }
    },
    {
      "cell_type": "code",
      "source": [
        "bike_data_aggr_sum_tot =\n",
        "print(bike_data_aggr_sum_tot)"
      ],
      "metadata": {
        "colab": {
          "base_uri": "https://localhost:8080/",
          "height": 272
        },
        "id": "d6cwU0IdBprn",
        "outputId": "711dc4fc-be5b-4cb1-98c6-edfa9360a866"
      },
      "execution_count": null,
      "outputs": [
        {
          "output_type": "execute_result",
          "data": {
            "text/plain": [
              "Date\n",
              "2024-06-25    282172\n",
              "2024-06-06    276213\n",
              "2024-06-26    273541\n",
              "2024-06-04    273204\n",
              "2024-06-27    271618\n",
              "Name: Comptage horaire, dtype: int64"
            ],
            "text/html": [
              "<div>\n",
              "<style scoped>\n",
              "    .dataframe tbody tr th:only-of-type {\n",
              "        vertical-align: middle;\n",
              "    }\n",
              "\n",
              "    .dataframe tbody tr th {\n",
              "        vertical-align: top;\n",
              "    }\n",
              "\n",
              "    .dataframe thead th {\n",
              "        text-align: right;\n",
              "    }\n",
              "</style>\n",
              "<table border=\"1\" class=\"dataframe\">\n",
              "  <thead>\n",
              "    <tr style=\"text-align: right;\">\n",
              "      <th></th>\n",
              "      <th>Comptage horaire</th>\n",
              "    </tr>\n",
              "    <tr>\n",
              "      <th>Date</th>\n",
              "      <th></th>\n",
              "    </tr>\n",
              "  </thead>\n",
              "  <tbody>\n",
              "    <tr>\n",
              "      <th>2024-06-25</th>\n",
              "      <td>282172</td>\n",
              "    </tr>\n",
              "    <tr>\n",
              "      <th>2024-06-06</th>\n",
              "      <td>276213</td>\n",
              "    </tr>\n",
              "    <tr>\n",
              "      <th>2024-06-26</th>\n",
              "      <td>273541</td>\n",
              "    </tr>\n",
              "    <tr>\n",
              "      <th>2024-06-04</th>\n",
              "      <td>273204</td>\n",
              "    </tr>\n",
              "    <tr>\n",
              "      <th>2024-06-27</th>\n",
              "      <td>271618</td>\n",
              "    </tr>\n",
              "  </tbody>\n",
              "</table>\n",
              "</div><br><label><b>dtype:</b> int64</label>"
            ]
          },
          "metadata": {},
          "execution_count": 27
        }
      ]
    },
    {
      "cell_type": "markdown",
      "source": [
        "Repartez de la dataframe bike_data et trouvez les 6 heures de la journée où la fréquentation médiane est la plus forte sur l'ensemble de la période. Que remarquez vous sur les heures trouvées ? Que représentent elles ?"
      ],
      "metadata": {
        "id": "tFIqz5txDLQU"
      }
    },
    {
      "cell_type": "code",
      "source": [
        "bike_data.groupby(['Heure'])['Comptage horaire'].median().sort_values(ascending=False).head(6)"
      ],
      "metadata": {
        "colab": {
          "base_uri": "https://localhost:8080/",
          "height": 304
        },
        "id": "TpbcDEntDMuZ",
        "outputId": "f3368f38-8e37-4161-a3a8-63b77166e7f2"
      },
      "execution_count": null,
      "outputs": [
        {
          "output_type": "execute_result",
          "data": {
            "text/plain": [
              "Heure\n",
              "18:00:00    144.0\n",
              "19:00:00    126.0\n",
              "17:00:00    114.0\n",
              "09:00:00     93.0\n",
              "08:00:00     90.0\n",
              "20:00:00     84.0\n",
              "Name: Comptage horaire, dtype: float64"
            ],
            "text/html": [
              "<div>\n",
              "<style scoped>\n",
              "    .dataframe tbody tr th:only-of-type {\n",
              "        vertical-align: middle;\n",
              "    }\n",
              "\n",
              "    .dataframe tbody tr th {\n",
              "        vertical-align: top;\n",
              "    }\n",
              "\n",
              "    .dataframe thead th {\n",
              "        text-align: right;\n",
              "    }\n",
              "</style>\n",
              "<table border=\"1\" class=\"dataframe\">\n",
              "  <thead>\n",
              "    <tr style=\"text-align: right;\">\n",
              "      <th></th>\n",
              "      <th>Comptage horaire</th>\n",
              "    </tr>\n",
              "    <tr>\n",
              "      <th>Heure</th>\n",
              "      <th></th>\n",
              "    </tr>\n",
              "  </thead>\n",
              "  <tbody>\n",
              "    <tr>\n",
              "      <th>18:00:00</th>\n",
              "      <td>144.0</td>\n",
              "    </tr>\n",
              "    <tr>\n",
              "      <th>19:00:00</th>\n",
              "      <td>126.0</td>\n",
              "    </tr>\n",
              "    <tr>\n",
              "      <th>17:00:00</th>\n",
              "      <td>114.0</td>\n",
              "    </tr>\n",
              "    <tr>\n",
              "      <th>09:00:00</th>\n",
              "      <td>93.0</td>\n",
              "    </tr>\n",
              "    <tr>\n",
              "      <th>08:00:00</th>\n",
              "      <td>90.0</td>\n",
              "    </tr>\n",
              "    <tr>\n",
              "      <th>20:00:00</th>\n",
              "      <td>84.0</td>\n",
              "    </tr>\n",
              "  </tbody>\n",
              "</table>\n",
              "</div><br><label><b>dtype:</b> float64</label>"
            ]
          },
          "metadata": {},
          "execution_count": 41
        }
      ]
    },
    {
      "cell_type": "markdown",
      "source": [
        "Maintenant que nous avons vu les notions de moyenne, de médiane et de variance, intéressons nous à leurs étendues. A partir de bike_data, créez une base bike_data_filt qui contient les comptages à chaque jour mais uniquement sur l'heure ayant la fréquentation médiane la plus forte (que vous avez trouvé précédemment). Le filtrage se fait de la manière suivante, pour une base de données df où 'on souhaite filtrer les valeurs 'a' de la colonne 'A', le filtrage se fait comme : df[df['A'] == 'a'].\n",
        "\n",
        "Construisez ensuite une boite à moustache (boxplot) à l'aide de la fonction 'plot.box()' appliquée sur la colonne 'Comptage horaire' de votre base bike_data_filt. Quelle est la valeur approximative de 3e quartile ? Que représente t-il ?"
      ],
      "metadata": {
        "id": "vTVDDTkXEQrJ"
      }
    },
    {
      "cell_type": "code",
      "source": [
        "bike_data_filt = bike_data[bike_data['Heure'] == '18:00:00']\n",
        "bike_data_filt['Comptage horaire'].plot.box(figsize=(6, 4), grid=True)"
      ],
      "metadata": {
        "colab": {
          "base_uri": "https://localhost:8080/",
          "height": 385
        },
        "id": "fpuXWk33H2Ig",
        "outputId": "c56bdbcb-bdf2-418f-acaa-08d449dbb86b"
      },
      "execution_count": null,
      "outputs": [
        {
          "output_type": "execute_result",
          "data": {
            "text/plain": [
              "<Axes: >"
            ]
          },
          "metadata": {},
          "execution_count": 42
        },
        {
          "output_type": "display_data",
          "data": {
            "text/plain": [
              "<Figure size 600x400 with 1 Axes>"
            ],
            "image/png": "[encoded data removed]"
          },
          "metadata": {}
        }
      ]
    },
    {
      "cell_type": "markdown",
      "source": [
        "Pour finir nous allons nous intéresser à la notion de covariance cov(x1,x2). Cette métrique décrit la manière dont évolue une quantité (x1) lorsqu'une autre quantité change de valeur (x2). Nous souhaitons trouver les 5 couples de compteurs ayant les plus fortes covariances positives, puis négatives, sur la même heure que vous avez utilisé précédemment. Nous allons travailler avec la base étendue bike_data_spread, nécessaire pour calculer les covariances. Pour commencer nous transformons les index 'Date' et 'Heure' en colonnes que l'on peut manipuler."
      ],
      "metadata": {
        "id": "MKE-quJ-Ky_f"
      }
    },
    {
      "cell_type": "code",
      "source": [
        "#Transformer les index 'Date' et 'Heure' en colonnes\n",
        "bike_data_spread = bike_data_spread.reset_index()"
      ],
      "metadata": {
        "id": "hpFlORbCIm1a"
      },
      "execution_count": null,
      "outputs": []
    },
    {
      "cell_type": "markdown",
      "source": [
        "Créez ensuite une base de données 'bike_data_spread_filt' qui correspond à la base étendue, filtrer sur l'heure à la fréquentation médiane max que vous avez déterminé précédemment. Créez une matrice de covariance 'cov_mat' à partir de votre base filtrée. Utilisez pour cela la fonction 'cov()' pour déterminer les covariances entre chaque couple de compteur ([l'aide ici ](https://pandas.pydata.org/docs/reference/api/pandas.DataFrame.cov.html)). On transforme ensuite cette matrice en dataframe avec pour chaque couple 'Compteur1' et 'Compteur2' la covariance associée. On retire les couples pour lesquels 'Compteur1' == 'Compteur2'. On trie ensuite dans l'ordre décroissant ou croissant des valeurs de covariance."
      ],
      "metadata": {
        "id": "BT5daKxMOBYA"
      }
    },
    {
      "cell_type": "code",
      "source": [
        "#Filtrer la base sur une heure\n",
        "bike_data_spread_filt = bike_data_spread[bike_data_spread['Heure']=='18:00:00']\n",
        "\n",
        "#Ramener Date et Heure à des index pour faciliter les manipulation de covariance\n",
        "bike_data_spread_filt = bike_data_spread_filt.set_index(['Date', 'Heure'])\n",
        "\n",
        "#Matrice de covariance\n",
        "cov_mat = bike_data_spread_filt.cov()\n",
        "# Masquer la partie inférieure de la matrice (i > j)\n",
        "mask = np.triu(np.ones(cov_mat.shape), k=1)\n",
        "# Appliquer le masque à la matrice de covariance\n",
        "upper_cov_matrix = cov_mat * mask\n",
        "\n",
        "#Transformation en dataframe avec deux colonnes compteur1 et compteur2.\n",
        "stacked_cov = upper_cov_matrix.stack()\n",
        "stacked_cov.index.names = ['Compteur1', 'Compteur2']\n",
        "stacked_cov = stacked_cov.reset_index()\n",
        "stacked_cov.columns = ['Compteur1', 'Compteur2','Covariance']\n",
        "\n",
        "#Trier dans l'ordre décroissant des valeurs de covariance - covariances positives, puis négatives\n",
        "stacked_cov.sort_values('Covariance', ascending=False).head(5)\n",
        "stacked_cov.sort_values('Covariance', ascending=True).head(5)"
      ],
      "metadata": {
        "colab": {
          "base_uri": "https://localhost:8080/",
          "height": 206
        },
        "id": "1IBpg_gOOQRV",
        "outputId": "86417370-b461-4dc6-eac9-656234369f98"
      },
      "execution_count": null,
      "outputs": [
        {
          "output_type": "execute_result",
          "data": {
            "text/plain": [
              "                          Compteur1                     Compteur2  \\\n",
              "6971   Pont Charles De Gaulle NE-SO              Quai d'Orsay O-E   \n",
              "6970   Pont Charles De Gaulle NE-SO              Quai d'Orsay E-O   \n",
              "2108  27 quai de la Tournelle SE-NO  Pont Charles De Gaulle NE-SO   \n",
              "7746         Pont des Invalides N-S              Quai d'Orsay E-O   \n",
              "2011  27 quai de la Tournelle NO-SE  Pont Charles De Gaulle NE-SO   \n",
              "\n",
              "        Covariance  \n",
              "6971 -12076.121878  \n",
              "6970 -10867.319680  \n",
              "2108  -8733.156843  \n",
              "7746  -6109.691309  \n",
              "2011  -4003.879454  "
            ],
            "text/html": [
              "\n",
              "  <div id=\"df-6f631762-866b-47d9-a035-7b35e70d27f1\" class=\"colab-df-container\">\n",
              "    <div>\n",
              "<style scoped>\n",
              "    .dataframe tbody tr th:only-of-type {\n",
              "        vertical-align: middle;\n",
              "    }\n",
              "\n",
              "    .dataframe tbody tr th {\n",
              "        vertical-align: top;\n",
              "    }\n",
              "\n",
              "    .dataframe thead th {\n",
              "        text-align: right;\n",
              "    }\n",
              "</style>\n",
              "<table border=\"1\" class=\"dataframe\">\n",
              "  <thead>\n",
              "    <tr style=\"text-align: right;\">\n",
              "      <th></th>\n",
              "      <th>Compteur1</th>\n",
              "      <th>Compteur2</th>\n",
              "      <th>Covariance</th>\n",
              "    </tr>\n",
              "  </thead>\n",
              "  <tbody>\n",
              "    <tr>\n",
              "      <th>6971</th>\n",
              "      <td>Pont Charles De Gaulle NE-SO</td>\n",
              "      <td>Quai d'Orsay O-E</td>\n",
              "      <td>-12076.121878</td>\n",
              "    </tr>\n",
              "    <tr>\n",
              "      <th>6970</th>\n",
              "      <td>Pont Charles De Gaulle NE-SO</td>\n",
              "      <td>Quai d'Orsay E-O</td>\n",
              "      <td>-10867.319680</td>\n",
              "    </tr>\n",
              "    <tr>\n",
              "      <th>2108</th>\n",
              "      <td>27 quai de la Tournelle SE-NO</td>\n",
              "      <td>Pont Charles De Gaulle NE-SO</td>\n",
              "      <td>-8733.156843</td>\n",
              "    </tr>\n",
              "    <tr>\n",
              "      <th>7746</th>\n",
              "      <td>Pont des Invalides N-S</td>\n",
              "      <td>Quai d'Orsay E-O</td>\n",
              "      <td>-6109.691309</td>\n",
              "    </tr>\n",
              "    <tr>\n",
              "      <th>2011</th>\n",
              "      <td>27 quai de la Tournelle NO-SE</td>\n",
              "      <td>Pont Charles De Gaulle NE-SO</td>\n",
              "      <td>-4003.879454</td>\n",
              "    </tr>\n",
              "  </tbody>\n",
              "</table>\n",
              "</div>\n",
              "    <div class=\"colab-df-buttons\">\n",
              "\n",
              "  <div class=\"colab-df-container\">\n",
              "    <button class=\"colab-df-convert\" onclick=\"convertToInteractive('df-6f631762-866b-47d9-a035-7b35e70d27f1')\"\n",
              "            title=\"Convert this dataframe to an interactive table.\"\n",
              "            style=\"display:none;\">\n",
              "\n",
              "  <svg xmlns=\"http://www.w3.org/2000/svg\" height=\"24px\" viewBox=\"0 -960 960 960\">\n",
              "    <path d=\"M120-120v-720h720v720H120Zm60-500h600v-160H180v160Zm220 220h160v-160H400v160Zm0 220h160v-160H400v160ZM180-400h160v-160H180v160Zm440 0h160v-160H620v160ZM180-180h160v-160H180v160Zm440 0h160v-160H620v160Z\"/>\n",
              "  </svg>\n",
              "    </button>\n",
              "\n",
              "  <style>\n",
              "    .colab-df-container {\n",
              "      display:flex;\n",
              "      gap: 12px;\n",
              "    }\n",
              "\n",
              "    .colab-df-convert {\n",
              "      background-color: #E8F0FE;\n",
              "      border: none;\n",
              "      border-radius: 50%;\n",
              "      cursor: pointer;\n",
              "      display: none;\n",
              "      fill: #1967D2;\n",
              "      height: 32px;\n",
              "      padding: 0 0 0 0;\n",
              "      width: 32px;\n",
              "    }\n",
              "\n",
              "    .colab-df-convert:hover {\n",
              "      background-color: #E2EBFA;\n",
              "      box-shadow: 0px 1px 2px rgba(60, 64, 67, 0.3), 0px 1px 3px 1px rgba(60, 64, 67, 0.15);\n",
              "      fill: #174EA6;\n",
              "    }\n",
              "\n",
              "    .colab-df-buttons div {\n",
              "      margin-bottom: 4px;\n",
              "    }\n",
              "\n",
              "    [theme=dark] .colab-df-convert {\n",
              "      background-color: #3B4455;\n",
              "      fill: #D2E3FC;\n",
              "    }\n",
              "\n",
              "    [theme=dark] .colab-df-convert:hover {\n",
              "      background-color: #434B5C;\n",
              "      box-shadow: 0px 1px 3px 1px rgba(0, 0, 0, 0.15);\n",
              "      filter: drop-shadow(0px 1px 2px rgba(0, 0, 0, 0.3));\n",
              "      fill: #FFFFFF;\n",
              "    }\n",
              "  </style>\n",
              "\n",
              "    <script>\n",
              "      const buttonEl =\n",
              "        document.querySelector('#df-6f631762-866b-47d9-a035-7b35e70d27f1 button.colab-df-convert');\n",
              "      buttonEl.style.display =\n",
              "        google.colab.kernel.accessAllowed ? 'block' : 'none';\n",
              "\n",
              "      async function convertToInteractive(key) {\n",
              "        const element = document.querySelector('#df-6f631762-866b-47d9-a035-7b35e70d27f1');\n",
              "        const dataTable =\n",
              "          await google.colab.kernel.invokeFunction('convertToInteractive',\n",
              "                                                    [key], {});\n",
              "        if (!dataTable) return;\n",
              "\n",
              "        const docLinkHtml = 'Like what you see? Visit the ' +\n",
              "          '<a target=\"_blank\" href=https://colab.research.google.com/notebooks/data_table.ipynb>data table notebook</a>'\n",
              "          + ' to learn more about interactive tables.';\n",
              "        element.innerHTML = '';\n",
              "        dataTable['output_type'] = 'display_data';\n",
              "        await google.colab.output.renderOutput(dataTable, element);\n",
              "        const docLink = document.createElement('div');\n",
              "        docLink.innerHTML = docLinkHtml;\n",
              "        element.appendChild(docLink);\n",
              "      }\n",
              "    </script>\n",
              "  </div>\n",
              "\n",
              "\n",
              "<div id=\"df-9a35fc20-e53a-4c8e-87ac-38e5c48f2fd6\">\n",
              "  <button class=\"colab-df-quickchart\" onclick=\"quickchart('df-9a35fc20-e53a-4c8e-87ac-38e5c48f2fd6')\"\n",
              "            title=\"Suggest charts\"\n",
              "            style=\"display:none;\">\n",
              "\n",
              "<svg xmlns=\"http://www.w3.org/2000/svg\" height=\"24px\"viewBox=\"0 0 24 24\"\n",
              "     width=\"24px\">\n",
              "    <g>\n",
              "        <path d=\"M19 3H5c-1.1 0-2 .9-2 2v14c0 1.1.9 2 2 2h14c1.1 0 2-.9 2-2V5c0-1.1-.9-2-2-2zM9 17H7v-7h2v7zm4 0h-2V7h2v10zm4 0h-2v-4h2v4z\"/>\n",
              "    </g>\n",
              "</svg>\n",
              "  </button>\n",
              "\n",
              "<style>\n",
              "  .colab-df-quickchart {\n",
              "      --bg-color: #E8F0FE;\n",
              "      --fill-color: #1967D2;\n",
              "      --hover-bg-color: #E2EBFA;\n",
              "      --hover-fill-color: #174EA6;\n",
              "      --disabled-fill-color: #AAA;\n",
              "      --disabled-bg-color: #DDD;\n",
              "  }\n",
              "\n",
              "  [theme=dark] .colab-df-quickchart {\n",
              "      --bg-color: #3B4455;\n",
              "      --fill-color: #D2E3FC;\n",
              "      --hover-bg-color: #434B5C;\n",
              "      --hover-fill-color: #FFFFFF;\n",
              "      --disabled-bg-color: #3B4455;\n",
              "      --disabled-fill-color: #666;\n",
              "  }\n",
              "\n",
              "  .colab-df-quickchart {\n",
              "    background-color: var(--bg-color);\n",
              "    border: none;\n",
              "    border-radius: 50%;\n",
              "    cursor: pointer;\n",
              "    display: none;\n",
              "    fill: var(--fill-color);\n",
              "    height: 32px;\n",
              "    padding: 0;\n",
              "    width: 32px;\n",
              "  }\n",
              "\n",
              "  .colab-df-quickchart:hover {\n",
              "    background-color: var(--hover-bg-color);\n",
              "    box-shadow: 0 1px 2px rgba(60, 64, 67, 0.3), 0 1px 3px 1px rgba(60, 64, 67, 0.15);\n",
              "    fill: var(--button-hover-fill-color);\n",
              "  }\n",
              "\n",
              "  .colab-df-quickchart-complete:disabled,\n",
              "  .colab-df-quickchart-complete:disabled:hover {\n",
              "    background-color: var(--disabled-bg-color);\n",
              "    fill: var(--disabled-fill-color);\n",
              "    box-shadow: none;\n",
              "  }\n",
              "\n",
              "  .colab-df-spinner {\n",
              "    border: 2px solid var(--fill-color);\n",
              "    border-color: transparent;\n",
              "    border-bottom-color: var(--fill-color);\n",
              "    animation:\n",
              "      spin 1s steps(1) infinite;\n",
              "  }\n",
              "\n",
              "  @keyframes spin {\n",
              "    0% {\n",
              "      border-color: transparent;\n",
              "      border-bottom-color: var(--fill-color);\n",
              "      border-left-color: var(--fill-color);\n",
              "    }\n",
              "    20% {\n",
              "      border-color: transparent;\n",
              "      border-left-color: var(--fill-color);\n",
              "      border-top-color: var(--fill-color);\n",
              "    }\n",
              "    30% {\n",
              "      border-color: transparent;\n",
              "      border-left-color: var(--fill-color);\n",
              "      border-top-color: var(--fill-color);\n",
              "      border-right-color: var(--fill-color);\n",
              "    }\n",
              "    40% {\n",
              "      border-color: transparent;\n",
              "      border-right-color: var(--fill-color);\n",
              "      border-top-color: var(--fill-color);\n",
              "    }\n",
              "    60% {\n",
              "      border-color: transparent;\n",
              "      border-right-color: var(--fill-color);\n",
              "    }\n",
              "    80% {\n",
              "      border-color: transparent;\n",
              "      border-right-color: var(--fill-color);\n",
              "      border-bottom-color: var(--fill-color);\n",
              "    }\n",
              "    90% {\n",
              "      border-color: transparent;\n",
              "      border-bottom-color: var(--fill-color);\n",
              "    }\n",
              "  }\n",
              "</style>\n",
              "\n",
              "  <script>\n",
              "    async function quickchart(key) {\n",
              "      const quickchartButtonEl =\n",
              "        document.querySelector('#' + key + ' button');\n",
              "      quickchartButtonEl.disabled = true;  // To prevent multiple clicks.\n",
              "      quickchartButtonEl.classList.add('colab-df-spinner');\n",
              "      try {\n",
              "        const charts = await google.colab.kernel.invokeFunction(\n",
              "            'suggestCharts', [key], {});\n",
              "      } catch (error) {\n",
              "        console.error('Error during call to suggestCharts:', error);\n",
              "      }\n",
              "      quickchartButtonEl.classList.remove('colab-df-spinner');\n",
              "      quickchartButtonEl.classList.add('colab-df-quickchart-complete');\n",
              "    }\n",
              "    (() => {\n",
              "      let quickchartButtonEl =\n",
              "        document.querySelector('#df-9a35fc20-e53a-4c8e-87ac-38e5c48f2fd6 button');\n",
              "      quickchartButtonEl.style.display =\n",
              "        google.colab.kernel.accessAllowed ? 'block' : 'none';\n",
              "    })();\n",
              "  </script>\n",
              "</div>\n",
              "\n",
              "    </div>\n",
              "  </div>\n"
            ],
            "application/vnd.google.colaboratory.intrinsic+json": {
              "type": "dataframe",
              "summary": "{\n  \"name\": \"stacked_cov\",\n  \"rows\": 5,\n  \"fields\": [\n    {\n      \"column\": \"Compteur1\",\n      \"properties\": {\n        \"dtype\": \"string\",\n        \"num_unique_values\": 4,\n        \"samples\": [\n          \"27 quai de la Tournelle SE-NO\",\n          \"27 quai de la Tournelle NO-SE\",\n          \"Pont Charles De Gaulle NE-SO\"\n        ],\n        \"semantic_type\": \"\",\n        \"description\": \"\"\n      }\n    },\n    {\n      \"column\": \"Compteur2\",\n      \"properties\": {\n        \"dtype\": \"string\",\n        \"num_unique_values\": 3,\n        \"samples\": [\n          \"Quai d'Orsay O-E\",\n          \"Quai d'Orsay E-O\",\n          \"Pont Charles De Gaulle NE-SO\"\n        ],\n        \"semantic_type\": \"\",\n        \"description\": \"\"\n      }\n    },\n    {\n      \"column\": \"Covariance\",\n      \"properties\": {\n        \"dtype\": \"number\",\n        \"std\": 3326.9774537639873,\n        \"min\": -12076.121878121876,\n        \"max\": -4003.879453879447,\n        \"num_unique_values\": 5,\n        \"samples\": [\n          -10867.319680319668,\n          -4003.879453879447,\n          -8733.156843156838\n        ],\n        \"semantic_type\": \"\",\n        \"description\": \"\"\n      }\n    }\n  ]\n}"
            }
          },
          "metadata": {},
          "execution_count": 101
        }
      ]
    },
    {
      "cell_type": "markdown",
      "source": [
        "Merci pour votre participation à ce premier atelier. Dans le prochain atelier nous nous intéresserons aux notions de clustering qui permettront de déterminer quels jours et/ou quels compteurs se ressemblent en terme de trafic de vélos."
      ],
      "metadata": {
        "id": "UG5BIoiLcD3G"
      }
    }
  ]
}